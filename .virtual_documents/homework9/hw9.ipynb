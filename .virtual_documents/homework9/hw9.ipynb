





# IMPORT NECESSARY PACKAGES
import matplotlib.pyplot as plt
import numpy as np 





#plt.figure(figsize=(5, 5))





x = [1, 2, 3, 4, 5]
y = [2, 4, 6, 8, 10]





#plt.plot(x, y, color = 'blue', linestyle = '--', marker = 'o')
#plt.scatter(x, y, color = 'red', linestyle = '-', marker = '*')





#plt.title("...", fontsize = ...)





#plt.xlabel(..., fontsize=14)
#plt.ylabel(..., fontsize = 14)





#plt.legend()





#plt.show()





# Your code here

def practice_plotting(x, y):
    #function that plots the x vs y data
    plt.figure(figsize=(5, 5))
    plt.plot(x, y, color='blue', linestyle='--', marker='o', label='Line: y=2x')
    plt.scatter(x, y, color='red', marker='*', label='Points: y=2x')
    plt.title("Practice Plotting y=2x", fontsize=15)
    plt.xlabel("x", fontsize=8)
    plt.ylabel("y", fontsize=8)
    plt.grid(visible=True)
    plt.legend()
    plt.show()

x = [1, 2, 3, 4, 5]
y = [2, 4, 6, 8, 10]

practice_plotting(x, y)





# Your code here
def plot_functions():
    #function that plots f(x) = x^2 and g(x) = x^1/2 on the same plot and returns the values as seperate lists
    #initialize list and x-axis
    y1_vals = []
    y2_vals = []
    x = np.linspace(0, 10, 11)
    
    # Define the two functions
    y1 = x**2
    y2 = x**1/2

    y1_vals.append(y1)
    y2_vals.append(y2)

    plt.figure(figsize=(10, 8))
    plt.plot(x, y1, color='red', linestyle='-', label="y = x^2")
    plt.plot(x, y2, color='blue', linestyle='--', label="y = sin(x)")
    plt.title("Plot of y = x^2 and y = sin(x)", fontsize=16)
    plt.xlabel("x", fontsize=12)
    plt.ylabel("y", fontsize=12)
    plt.grid(True)
    plt.legend()
    plt.show()
    
    #Return the y values as lists
    return y1_vals, y2_vals
    

plot_functions()






#You can specify the location of the legend in its code. I would write plt.legend(loc = "upper right")





#You can add a vertical and horizontal line by coding an axis-specific line. For example, for a vertical line, you can write plt.axvline(x = 0)
#and for a horizontal line you can write plt.axhline(y = 3 (to specify location))





#You can change the domain of x by adjusting the start and stop numbers of np.linspace. Instead you could write np.linspace(0, 50, 51) to adjust the domain to [0, 50] with 51 steps in between.





# You can set limits on both the x and y ranges. For example you can write plt.xlim(0,2) which sets the x limit between 0 and 2. You can also write plt.ylim(0,3) to set the y limit between 0 and 3.





#You can create a new variable "sum" that adds f(x) and g(x). Then either call the function so it returns "sum" or initialize "sum" as a list and append values to it





# Your code here
def plot_functions2():
    #function that plots f(x) = x^2 and g(x) = x^1/2 on the same plot and returns the values as seperate lists
    #initialize lists and x values
    sums = []
    x = np.linspace(0, 50, 51)
    
    # Define the two functions
    y1 = x**2
    y2 = x**1/2
    
    sum = y1+y2
    sums.append(sum)

    plt.figure(figsize=(10, 8))
    plt.plot(x, y1, color='red', linestyle='-', label="y = x^2")
    plt.plot(x, y2, color='blue', linestyle='--', label="y = sin(x)")
    plt.title("Plot of y = x^2 and y = sin(x)", fontsize=16)
    plt.xlabel("x", fontsize=12)
    plt.ylabel("y", fontsize=12)
    plt.ylim(0,25)
    plt.xlim(0,25)
    plt.axvline(x = 4)
    plt.axhline(y = 5)
    plt.grid(True)
    plt.legend(loc = 'upper right')
    plt.show()
    
    #Return the y values as lists
    return sums

plot_functions2()





# Import your module here\
import subplots





# Your code here
subplots.plot_side_by_side((0, 2*np.pi))





# Your code here
subplots.plot_on_top((0, 2*np.pi))





# Your code here

subplots.plot_side_by_side((0, 4*np.pi))
subplots.plot_on_top((0, 4*np.pi))





# Import your module and/or your code here
import colormap_example


colormap_example.plot_inferno_image("Mona.jpg")


colormap_example.plot_inferno_image("fruit.jpg")





# Your comment here
#https://matplotlib.org/stable/tutorials/images.html  . This website taught me a lot about colormaps and how to change an image's colormap through converting it to an array then adjusting that. Alsoo I learned what a colormap is, the difference between grayscale and the other colors, and that you can adjust a photo's coloring through the change of its pixels. ChatGPT helped me debug, set a title for the whole figure, figure out the syntax for checking and converting to grayscale, as well as read the image without importing an additional library. 





# Your comment here
#My code is taking a path to an image, reading the image, then displaying both the grayscale and inferno version. It is reading if it the image is in RGB (3 channels), then if so converting that to grayscale to use for the function. 







