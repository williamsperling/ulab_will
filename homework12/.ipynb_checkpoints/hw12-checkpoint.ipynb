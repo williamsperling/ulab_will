{
 "cells": [
  {
   "cell_type": "markdown",
   "id": "f7eb8f9f-1340-4708-8ab3-50f4fd484d67",
   "metadata": {},
   "source": [
    "# HW 12 - Introduction to Pandas\n",
    "ULAB - Physics and Astronomy Division \\\n",
    "Due **Sunday, February 9th, 2025 at 11:59pm** on Gradescope"
   ]
  },
  {
   "cell_type": "markdown",
   "id": "2c6041f7-b8f0-40cd-9e68-d20b6a4e5ce8",
   "metadata": {},
   "source": [
    "------\n",
    "## 0 Academic Integrity\n",
    "Please type the following message in the cell below as a comment. Sign with your name.\n",
    "\n",
    "------\n",
    "**I certify that I did not use AI tools, such as ChatGPT, to generate or write code for this assignment. All work submitted is my own and reflects my understanding of the material.**\n",
    "\n",
    "------"
   ]
  },
  {
   "cell_type": "code",
   "execution_count": 5,
   "id": "75b93ba8-1d87-4cf9-b4ef-e6b54f5a4475",
   "metadata": {},
   "outputs": [],
   "source": [
    "#I certify that I did not use AI tools, such as ChatGPT, \n",
    "#to generate or write code for this assignment. All work submitted is my own and reflects my understanding \n",
    "#of the material \n",
    "#Will Sperling"
   ]
  },
  {
   "cell_type": "markdown",
   "id": "ff997544-4c6d-4dbb-b7f5-bf58b0a72929",
   "metadata": {},
   "source": [
    "------\n",
    "## 1 Real Exoplanet Data!\n",
    "Start by importing `pandas` into your Jupyter notebook."
   ]
  },
  {
   "cell_type": "code",
   "execution_count": 7,
   "id": "46316b69-f64c-454c-96c8-b58b92adcec9",
   "metadata": {},
   "outputs": [],
   "source": [
    "import pandas as pd"
   ]
  },
  {
   "cell_type": "markdown",
   "id": "c49491ef-7bf9-46c8-9c75-61fae8367637",
   "metadata": {},
   "source": [
    "With a pandas dataframe, import the `exoplanet_data.csv` file. If you are curious this data is pulled directly from: https://exoplanetarchive.ipac.caltech.edu/. Due to the formating you will want to add the argument `comment='#'` to statement."
   ]
  },
  {
   "cell_type": "code",
   "execution_count": 30,
   "id": "399ee537-21f9-4d1e-862f-027160361bd7",
   "metadata": {},
   "outputs": [
    {
     "data": {
      "text/html": [
       "<div>\n",
       "<style scoped>\n",
       "    .dataframe tbody tr th:only-of-type {\n",
       "        vertical-align: middle;\n",
       "    }\n",
       "\n",
       "    .dataframe tbody tr th {\n",
       "        vertical-align: top;\n",
       "    }\n",
       "\n",
       "    .dataframe thead th {\n",
       "        text-align: right;\n",
       "    }\n",
       "</style>\n",
       "<table border=\"1\" class=\"dataframe\">\n",
       "  <thead>\n",
       "    <tr style=\"text-align: right;\">\n",
       "      <th></th>\n",
       "      <th>pl_name</th>\n",
       "      <th>hostname</th>\n",
       "      <th>default_flag</th>\n",
       "      <th>sy_snum</th>\n",
       "      <th>sy_pnum</th>\n",
       "      <th>discoverymethod</th>\n",
       "      <th>disc_year</th>\n",
       "      <th>disc_facility</th>\n",
       "      <th>soltype</th>\n",
       "      <th>pl_controv_flag</th>\n",
       "      <th>...</th>\n",
       "      <th>sy_vmagerr2</th>\n",
       "      <th>sy_kmag</th>\n",
       "      <th>sy_kmagerr1</th>\n",
       "      <th>sy_kmagerr2</th>\n",
       "      <th>sy_gaiamag</th>\n",
       "      <th>sy_gaiamagerr1</th>\n",
       "      <th>sy_gaiamagerr2</th>\n",
       "      <th>rowupdate</th>\n",
       "      <th>pl_pubdate</th>\n",
       "      <th>releasedate</th>\n",
       "    </tr>\n",
       "  </thead>\n",
       "  <tbody>\n",
       "    <tr>\n",
       "      <th>0</th>\n",
       "      <td>eps Ind A b</td>\n",
       "      <td>eps Ind A</td>\n",
       "      <td>1</td>\n",
       "      <td>3</td>\n",
       "      <td>1</td>\n",
       "      <td>Radial Velocity</td>\n",
       "      <td>2019</td>\n",
       "      <td>La Silla Observatory</td>\n",
       "      <td>Published Confirmed</td>\n",
       "      <td>0</td>\n",
       "      <td>...</td>\n",
       "      <td>-0.030</td>\n",
       "      <td>2.237</td>\n",
       "      <td>0.240</td>\n",
       "      <td>-0.240</td>\n",
       "      <td>4.34562</td>\n",
       "      <td>0.007374</td>\n",
       "      <td>-0.007374</td>\n",
       "      <td>2024-08-07</td>\n",
       "      <td>2024-07</td>\n",
       "      <td>2024-08-07</td>\n",
       "    </tr>\n",
       "    <tr>\n",
       "      <th>1</th>\n",
       "      <td>AU Mic b</td>\n",
       "      <td>AU Mic</td>\n",
       "      <td>1</td>\n",
       "      <td>1</td>\n",
       "      <td>3</td>\n",
       "      <td>Transit</td>\n",
       "      <td>2020</td>\n",
       "      <td>Transiting Exoplanet Survey Satellite (TESS)</td>\n",
       "      <td>Published Confirmed</td>\n",
       "      <td>0</td>\n",
       "      <td>...</td>\n",
       "      <td>-0.100</td>\n",
       "      <td>4.529</td>\n",
       "      <td>0.020</td>\n",
       "      <td>-0.020</td>\n",
       "      <td>7.84038</td>\n",
       "      <td>0.000731</td>\n",
       "      <td>-0.000731</td>\n",
       "      <td>2024-09-28</td>\n",
       "      <td>2023-12</td>\n",
       "      <td>2024-09-28</td>\n",
       "    </tr>\n",
       "    <tr>\n",
       "      <th>2</th>\n",
       "      <td>AU Mic c</td>\n",
       "      <td>AU Mic</td>\n",
       "      <td>1</td>\n",
       "      <td>1</td>\n",
       "      <td>3</td>\n",
       "      <td>Transit</td>\n",
       "      <td>2021</td>\n",
       "      <td>Transiting Exoplanet Survey Satellite (TESS)</td>\n",
       "      <td>Published Confirmed</td>\n",
       "      <td>0</td>\n",
       "      <td>...</td>\n",
       "      <td>-0.100</td>\n",
       "      <td>4.529</td>\n",
       "      <td>0.020</td>\n",
       "      <td>-0.020</td>\n",
       "      <td>7.84038</td>\n",
       "      <td>0.000731</td>\n",
       "      <td>-0.000731</td>\n",
       "      <td>2024-09-28</td>\n",
       "      <td>2023-12</td>\n",
       "      <td>2024-09-28</td>\n",
       "    </tr>\n",
       "    <tr>\n",
       "      <th>3</th>\n",
       "      <td>BD-14 3065 b</td>\n",
       "      <td>BD-14 3065 A</td>\n",
       "      <td>1</td>\n",
       "      <td>3</td>\n",
       "      <td>1</td>\n",
       "      <td>Transit</td>\n",
       "      <td>2024</td>\n",
       "      <td>Transiting Exoplanet Survey Satellite (TESS)</td>\n",
       "      <td>Published Confirmed</td>\n",
       "      <td>0</td>\n",
       "      <td>...</td>\n",
       "      <td>-0.013</td>\n",
       "      <td>9.932</td>\n",
       "      <td>0.026</td>\n",
       "      <td>-0.026</td>\n",
       "      <td>10.91000</td>\n",
       "      <td>0.001617</td>\n",
       "      <td>-0.001617</td>\n",
       "      <td>2024-06-25</td>\n",
       "      <td>2024-03</td>\n",
       "      <td>2024-06-25</td>\n",
       "    </tr>\n",
       "    <tr>\n",
       "      <th>4</th>\n",
       "      <td>DS Tuc A b</td>\n",
       "      <td>DS Tuc A</td>\n",
       "      <td>1</td>\n",
       "      <td>2</td>\n",
       "      <td>1</td>\n",
       "      <td>Transit</td>\n",
       "      <td>2019</td>\n",
       "      <td>Transiting Exoplanet Survey Satellite (TESS)</td>\n",
       "      <td>Published Confirmed</td>\n",
       "      <td>0</td>\n",
       "      <td>...</td>\n",
       "      <td>-0.030</td>\n",
       "      <td>6.676</td>\n",
       "      <td>0.034</td>\n",
       "      <td>-0.034</td>\n",
       "      <td>8.31926</td>\n",
       "      <td>0.001025</td>\n",
       "      <td>-0.001025</td>\n",
       "      <td>2019-07-03</td>\n",
       "      <td>2019-07</td>\n",
       "      <td>2019-07-11</td>\n",
       "    </tr>\n",
       "    <tr>\n",
       "      <th>5</th>\n",
       "      <td>GJ 1252 b</td>\n",
       "      <td>GJ 1252</td>\n",
       "      <td>1</td>\n",
       "      <td>1</td>\n",
       "      <td>1</td>\n",
       "      <td>Transit</td>\n",
       "      <td>2020</td>\n",
       "      <td>Transiting Exoplanet Survey Satellite (TESS)</td>\n",
       "      <td>Published Confirmed</td>\n",
       "      <td>0</td>\n",
       "      <td>...</td>\n",
       "      <td>-0.200</td>\n",
       "      <td>7.915</td>\n",
       "      <td>0.023</td>\n",
       "      <td>-0.023</td>\n",
       "      <td>11.23640</td>\n",
       "      <td>0.000806</td>\n",
       "      <td>-0.000806</td>\n",
       "      <td>2023-07-10</td>\n",
       "      <td>2022-09</td>\n",
       "      <td>2023-07-10</td>\n",
       "    </tr>\n",
       "    <tr>\n",
       "      <th>6</th>\n",
       "      <td>HD 101581 b</td>\n",
       "      <td>HIP 56998</td>\n",
       "      <td>1</td>\n",
       "      <td>1</td>\n",
       "      <td>2</td>\n",
       "      <td>Transit</td>\n",
       "      <td>2025</td>\n",
       "      <td>Transiting Exoplanet Survey Satellite (TESS)</td>\n",
       "      <td>Published Confirmed</td>\n",
       "      <td>0</td>\n",
       "      <td>...</td>\n",
       "      <td>-0.030</td>\n",
       "      <td>5.101</td>\n",
       "      <td>0.016</td>\n",
       "      <td>-0.016</td>\n",
       "      <td>7.38399</td>\n",
       "      <td>0.000281</td>\n",
       "      <td>-0.000281</td>\n",
       "      <td>2025-01-22</td>\n",
       "      <td>2025-01</td>\n",
       "      <td>2025-01-22</td>\n",
       "    </tr>\n",
       "    <tr>\n",
       "      <th>7</th>\n",
       "      <td>HD 202772 A b</td>\n",
       "      <td>HD 202772 A</td>\n",
       "      <td>1</td>\n",
       "      <td>2</td>\n",
       "      <td>1</td>\n",
       "      <td>Transit</td>\n",
       "      <td>2019</td>\n",
       "      <td>Transiting Exoplanet Survey Satellite (TESS)</td>\n",
       "      <td>Published Confirmed</td>\n",
       "      <td>0</td>\n",
       "      <td>...</td>\n",
       "      <td>-0.002</td>\n",
       "      <td>6.959</td>\n",
       "      <td>0.024</td>\n",
       "      <td>-0.024</td>\n",
       "      <td>8.22688</td>\n",
       "      <td>0.000735</td>\n",
       "      <td>-0.000735</td>\n",
       "      <td>2019-01-28</td>\n",
       "      <td>2019-02</td>\n",
       "      <td>2019-01-31</td>\n",
       "    </tr>\n",
       "    <tr>\n",
       "      <th>8</th>\n",
       "      <td>HIP 67522 b</td>\n",
       "      <td>HIP 67522</td>\n",
       "      <td>1</td>\n",
       "      <td>1</td>\n",
       "      <td>2</td>\n",
       "      <td>Transit</td>\n",
       "      <td>2020</td>\n",
       "      <td>Transiting Exoplanet Survey Satellite (TESS)</td>\n",
       "      <td>Published Confirmed</td>\n",
       "      <td>0</td>\n",
       "      <td>...</td>\n",
       "      <td>-0.030</td>\n",
       "      <td>8.164</td>\n",
       "      <td>0.026</td>\n",
       "      <td>-0.026</td>\n",
       "      <td>9.63261</td>\n",
       "      <td>0.002283</td>\n",
       "      <td>-0.002283</td>\n",
       "      <td>2024-09-28</td>\n",
       "      <td>2024-09</td>\n",
       "      <td>2024-09-28</td>\n",
       "    </tr>\n",
       "    <tr>\n",
       "      <th>9</th>\n",
       "      <td>IRAS 04125+2902 b</td>\n",
       "      <td>IRAS 04125+2902</td>\n",
       "      <td>1</td>\n",
       "      <td>2</td>\n",
       "      <td>1</td>\n",
       "      <td>Transit</td>\n",
       "      <td>2024</td>\n",
       "      <td>Transiting Exoplanet Survey Satellite (TESS)</td>\n",
       "      <td>Published Confirmed</td>\n",
       "      <td>0</td>\n",
       "      <td>...</td>\n",
       "      <td>-0.206</td>\n",
       "      <td>9.376</td>\n",
       "      <td>0.028</td>\n",
       "      <td>-0.028</td>\n",
       "      <td>13.99100</td>\n",
       "      <td>0.001786</td>\n",
       "      <td>-0.001786</td>\n",
       "      <td>2024-12-10</td>\n",
       "      <td>2024-11</td>\n",
       "      <td>2024-12-10</td>\n",
       "    </tr>\n",
       "  </tbody>\n",
       "</table>\n",
       "<p>10 rows × 92 columns</p>\n",
       "</div>"
      ],
      "text/plain": [
       "             pl_name         hostname  default_flag  sy_snum  sy_pnum  \\\n",
       "0        eps Ind A b        eps Ind A             1        3        1   \n",
       "1           AU Mic b           AU Mic             1        1        3   \n",
       "2           AU Mic c           AU Mic             1        1        3   \n",
       "3       BD-14 3065 b     BD-14 3065 A             1        3        1   \n",
       "4         DS Tuc A b         DS Tuc A             1        2        1   \n",
       "5          GJ 1252 b          GJ 1252             1        1        1   \n",
       "6        HD 101581 b        HIP 56998             1        1        2   \n",
       "7      HD 202772 A b      HD 202772 A             1        2        1   \n",
       "8        HIP 67522 b        HIP 67522             1        1        2   \n",
       "9  IRAS 04125+2902 b  IRAS 04125+2902             1        2        1   \n",
       "\n",
       "   discoverymethod  disc_year                                 disc_facility  \\\n",
       "0  Radial Velocity       2019                          La Silla Observatory   \n",
       "1          Transit       2020  Transiting Exoplanet Survey Satellite (TESS)   \n",
       "2          Transit       2021  Transiting Exoplanet Survey Satellite (TESS)   \n",
       "3          Transit       2024  Transiting Exoplanet Survey Satellite (TESS)   \n",
       "4          Transit       2019  Transiting Exoplanet Survey Satellite (TESS)   \n",
       "5          Transit       2020  Transiting Exoplanet Survey Satellite (TESS)   \n",
       "6          Transit       2025  Transiting Exoplanet Survey Satellite (TESS)   \n",
       "7          Transit       2019  Transiting Exoplanet Survey Satellite (TESS)   \n",
       "8          Transit       2020  Transiting Exoplanet Survey Satellite (TESS)   \n",
       "9          Transit       2024  Transiting Exoplanet Survey Satellite (TESS)   \n",
       "\n",
       "               soltype  pl_controv_flag  ... sy_vmagerr2  sy_kmag  \\\n",
       "0  Published Confirmed                0  ...      -0.030    2.237   \n",
       "1  Published Confirmed                0  ...      -0.100    4.529   \n",
       "2  Published Confirmed                0  ...      -0.100    4.529   \n",
       "3  Published Confirmed                0  ...      -0.013    9.932   \n",
       "4  Published Confirmed                0  ...      -0.030    6.676   \n",
       "5  Published Confirmed                0  ...      -0.200    7.915   \n",
       "6  Published Confirmed                0  ...      -0.030    5.101   \n",
       "7  Published Confirmed                0  ...      -0.002    6.959   \n",
       "8  Published Confirmed                0  ...      -0.030    8.164   \n",
       "9  Published Confirmed                0  ...      -0.206    9.376   \n",
       "\n",
       "   sy_kmagerr1  sy_kmagerr2  sy_gaiamag  sy_gaiamagerr1  sy_gaiamagerr2  \\\n",
       "0        0.240       -0.240     4.34562        0.007374       -0.007374   \n",
       "1        0.020       -0.020     7.84038        0.000731       -0.000731   \n",
       "2        0.020       -0.020     7.84038        0.000731       -0.000731   \n",
       "3        0.026       -0.026    10.91000        0.001617       -0.001617   \n",
       "4        0.034       -0.034     8.31926        0.001025       -0.001025   \n",
       "5        0.023       -0.023    11.23640        0.000806       -0.000806   \n",
       "6        0.016       -0.016     7.38399        0.000281       -0.000281   \n",
       "7        0.024       -0.024     8.22688        0.000735       -0.000735   \n",
       "8        0.026       -0.026     9.63261        0.002283       -0.002283   \n",
       "9        0.028       -0.028    13.99100        0.001786       -0.001786   \n",
       "\n",
       "    rowupdate  pl_pubdate  releasedate  \n",
       "0  2024-08-07     2024-07   2024-08-07  \n",
       "1  2024-09-28     2023-12   2024-09-28  \n",
       "2  2024-09-28     2023-12   2024-09-28  \n",
       "3  2024-06-25     2024-03   2024-06-25  \n",
       "4  2019-07-03     2019-07   2019-07-11  \n",
       "5  2023-07-10     2022-09   2023-07-10  \n",
       "6  2025-01-22     2025-01   2025-01-22  \n",
       "7  2019-01-28     2019-02   2019-01-31  \n",
       "8  2024-09-28     2024-09   2024-09-28  \n",
       "9  2024-12-10     2024-11   2024-12-10  \n",
       "\n",
       "[10 rows x 92 columns]"
      ]
     },
     "execution_count": 30,
     "metadata": {},
     "output_type": "execute_result"
    }
   ],
   "source": [
    "dataframe = pd.read_csv(\"exoplanet_data.csv\")\n",
    "dataframe"
   ]
  },
  {
   "cell_type": "markdown",
   "id": "c3987118-1a83-46cf-a5bf-88f9b2e1c495",
   "metadata": {},
   "source": [
    "Print the headers of your dataframe."
   ]
  },
  {
   "cell_type": "code",
   "execution_count": 13,
   "id": "4bf6718c-c22b-4fc8-b02e-89cdaf614e65",
   "metadata": {},
   "outputs": [
    {
     "data": {
      "text/plain": [
       "Index(['pl_name', 'hostname', 'default_flag', 'sy_snum', 'sy_pnum',\n",
       "       'discoverymethod', 'disc_year', 'disc_facility', 'soltype',\n",
       "       'pl_controv_flag', 'pl_refname', 'pl_orbper', 'pl_orbpererr1',\n",
       "       'pl_orbpererr2', 'pl_orbperlim', 'pl_orbsmax', 'pl_orbsmaxerr1',\n",
       "       'pl_orbsmaxerr2', 'pl_orbsmaxlim', 'pl_rade', 'pl_radeerr1',\n",
       "       'pl_radeerr2', 'pl_radelim', 'pl_radj', 'pl_radjerr1', 'pl_radjerr2',\n",
       "       'pl_radjlim', 'pl_bmasse', 'pl_bmasseerr1', 'pl_bmasseerr2',\n",
       "       'pl_bmasselim', 'pl_bmassj', 'pl_bmassjerr1', 'pl_bmassjerr2',\n",
       "       'pl_bmassjlim', 'pl_bmassprov', 'pl_orbeccen', 'pl_orbeccenerr1',\n",
       "       'pl_orbeccenerr2', 'pl_orbeccenlim', 'pl_insol', 'pl_insolerr1',\n",
       "       'pl_insolerr2', 'pl_insollim', 'pl_eqt', 'pl_eqterr1', 'pl_eqterr2',\n",
       "       'pl_eqtlim', 'ttv_flag', 'st_refname', 'st_spectype', 'st_teff',\n",
       "       'st_tefferr1', 'st_tefferr2', 'st_tefflim', 'st_rad', 'st_raderr1',\n",
       "       'st_raderr2', 'st_radlim', 'st_mass', 'st_masserr1', 'st_masserr2',\n",
       "       'st_masslim', 'st_met', 'st_meterr1', 'st_meterr2', 'st_metlim',\n",
       "       'st_metratio', 'st_logg', 'st_loggerr1', 'st_loggerr2', 'st_logglim',\n",
       "       'sy_refname', 'rastr', 'ra', 'decstr', 'dec', 'sy_dist', 'sy_disterr1',\n",
       "       'sy_disterr2', 'sy_vmag', 'sy_vmagerr1', 'sy_vmagerr2', 'sy_kmag',\n",
       "       'sy_kmagerr1', 'sy_kmagerr2', 'sy_gaiamag', 'sy_gaiamagerr1',\n",
       "       'sy_gaiamagerr2', 'rowupdate', 'pl_pubdate', 'releasedate'],\n",
       "      dtype='object')"
      ]
     },
     "execution_count": 13,
     "metadata": {},
     "output_type": "execute_result"
    }
   ],
   "source": [
    "dataframe.columns"
   ]
  },
  {
   "cell_type": "markdown",
   "id": "edb06ea4-c2c5-4a28-a058-97a931a7fe6a",
   "metadata": {},
   "source": [
    "Print the columns of your dataframe as a list."
   ]
  },
  {
   "cell_type": "code",
   "execution_count": 26,
   "id": "47160ad8-807e-402f-92dd-e1412ba971d1",
   "metadata": {},
   "outputs": [
    {
     "name": "stdout",
     "output_type": "stream",
     "text": [
      "['pl_name', 'hostname', 'default_flag', 'sy_snum', 'sy_pnum', 'discoverymethod', 'disc_year', 'disc_facility', 'soltype', 'pl_controv_flag', 'pl_refname', 'pl_orbper', 'pl_orbpererr1', 'pl_orbpererr2', 'pl_orbperlim', 'pl_orbsmax', 'pl_orbsmaxerr1', 'pl_orbsmaxerr2', 'pl_orbsmaxlim', 'pl_rade', 'pl_radeerr1', 'pl_radeerr2', 'pl_radelim', 'pl_radj', 'pl_radjerr1', 'pl_radjerr2', 'pl_radjlim', 'pl_bmasse', 'pl_bmasseerr1', 'pl_bmasseerr2', 'pl_bmasselim', 'pl_bmassj', 'pl_bmassjerr1', 'pl_bmassjerr2', 'pl_bmassjlim', 'pl_bmassprov', 'pl_orbeccen', 'pl_orbeccenerr1', 'pl_orbeccenerr2', 'pl_orbeccenlim', 'pl_insol', 'pl_insolerr1', 'pl_insolerr2', 'pl_insollim', 'pl_eqt', 'pl_eqterr1', 'pl_eqterr2', 'pl_eqtlim', 'ttv_flag', 'st_refname', 'st_spectype', 'st_teff', 'st_tefferr1', 'st_tefferr2', 'st_tefflim', 'st_rad', 'st_raderr1', 'st_raderr2', 'st_radlim', 'st_mass', 'st_masserr1', 'st_masserr2', 'st_masslim', 'st_met', 'st_meterr1', 'st_meterr2', 'st_metlim', 'st_metratio', 'st_logg', 'st_loggerr1', 'st_loggerr2', 'st_logglim', 'sy_refname', 'rastr', 'ra', 'decstr', 'dec', 'sy_dist', 'sy_disterr1', 'sy_disterr2', 'sy_vmag', 'sy_vmagerr1', 'sy_vmagerr2', 'sy_kmag', 'sy_kmagerr1', 'sy_kmagerr2', 'sy_gaiamag', 'sy_gaiamagerr1', 'sy_gaiamagerr2', 'rowupdate', 'pl_pubdate', 'releasedate']\n"
     ]
    }
   ],
   "source": [
    "print(dataframe.columns.tolist())"
   ]
  },
  {
   "cell_type": "markdown",
   "id": "64dd81f5-8a44-4806-a6e1-a4904cc9b0a1",
   "metadata": {},
   "source": [
    "Print the row of the dataframe called \"pl_name\", this stands for *planet name*."
   ]
  },
  {
   "cell_type": "code",
   "execution_count": 28,
   "id": "9da01751-f284-4318-915b-66154d84e332",
   "metadata": {},
   "outputs": [
    {
     "name": "stdout",
     "output_type": "stream",
     "text": [
      "0          eps Ind A b\n",
      "1             AU Mic b\n",
      "2             AU Mic c\n",
      "3         BD-14 3065 b\n",
      "4           DS Tuc A b\n",
      "5            GJ 1252 b\n",
      "6          HD 101581 b\n",
      "7        HD 202772 A b\n",
      "8          HIP 67522 b\n",
      "9    IRAS 04125+2902 b\n",
      "Name: pl_name, dtype: object\n"
     ]
    }
   ],
   "source": [
    "print(dataframe[\"pl_name\"])"
   ]
  },
  {
   "cell_type": "markdown",
   "id": "d4f8b954-3e33-4a5f-bc63-57953cbafb48",
   "metadata": {},
   "source": [
    "Print how many planets there are. "
   ]
  },
  {
   "cell_type": "code",
   "execution_count": 32,
   "id": "3ed4f6cb-5bbc-4603-b669-ffb35f3829b3",
   "metadata": {},
   "outputs": [
    {
     "name": "stdout",
     "output_type": "stream",
     "text": [
      "10\n"
     ]
    }
   ],
   "source": [
    "print(len(dataframe))"
   ]
  },
  {
   "cell_type": "markdown",
   "id": "7916a476-5cac-4f5d-a5e4-8483cba8bc56",
   "metadata": {},
   "source": [
    "Make a new variable called `planet_data`. With a dataframe assign the variable the columns associated with the planet's names, planet's Earth radii, planet's Jupiter masses and planet's equilibrium temperatures. *Hint: It should look something like, `['pl_name', 'RADII', 'MASS', 'TEMPERATURE']` but with the proper column names.*"
   ]
  },
  {
   "cell_type": "code",
   "execution_count": 34,
   "id": "39a35037-7666-4051-9f42-a03891a05bc6",
   "metadata": {},
   "outputs": [],
   "source": [
    "planet_data = dataframe[['pl_name', 'pl_rade', 'pl_bmassj', 'pl_eqt']]"
   ]
  },
  {
   "cell_type": "markdown",
   "id": "ccb03993-0b12-446f-8406-d049ea1716af",
   "metadata": {},
   "source": [
    "Print your new `planet_data` variable."
   ]
  },
  {
   "cell_type": "code",
   "execution_count": 38,
   "id": "735c6f2f-116b-4aad-b9e6-ee3a3eee56de",
   "metadata": {},
   "outputs": [
    {
     "data": {
      "text/html": [
       "<div>\n",
       "<style scoped>\n",
       "    .dataframe tbody tr th:only-of-type {\n",
       "        vertical-align: middle;\n",
       "    }\n",
       "\n",
       "    .dataframe tbody tr th {\n",
       "        vertical-align: top;\n",
       "    }\n",
       "\n",
       "    .dataframe thead th {\n",
       "        text-align: right;\n",
       "    }\n",
       "</style>\n",
       "<table border=\"1\" class=\"dataframe\">\n",
       "  <thead>\n",
       "    <tr style=\"text-align: right;\">\n",
       "      <th></th>\n",
       "      <th>pl_name</th>\n",
       "      <th>pl_rade</th>\n",
       "      <th>pl_bmassj</th>\n",
       "      <th>pl_eqt</th>\n",
       "    </tr>\n",
       "  </thead>\n",
       "  <tbody>\n",
       "    <tr>\n",
       "      <th>0</th>\n",
       "      <td>eps Ind A b</td>\n",
       "      <td>NaN</td>\n",
       "      <td>6.31000</td>\n",
       "      <td>275.0</td>\n",
       "    </tr>\n",
       "    <tr>\n",
       "      <th>1</th>\n",
       "      <td>AU Mic b</td>\n",
       "      <td>3.957</td>\n",
       "      <td>NaN</td>\n",
       "      <td>600.0</td>\n",
       "    </tr>\n",
       "    <tr>\n",
       "      <th>2</th>\n",
       "      <td>AU Mic c</td>\n",
       "      <td>2.522</td>\n",
       "      <td>NaN</td>\n",
       "      <td>459.0</td>\n",
       "    </tr>\n",
       "    <tr>\n",
       "      <th>3</th>\n",
       "      <td>BD-14 3065 b</td>\n",
       "      <td>21.590</td>\n",
       "      <td>12.37000</td>\n",
       "      <td>2001.0</td>\n",
       "    </tr>\n",
       "    <tr>\n",
       "      <th>4</th>\n",
       "      <td>DS Tuc A b</td>\n",
       "      <td>5.700</td>\n",
       "      <td>NaN</td>\n",
       "      <td>850.0</td>\n",
       "    </tr>\n",
       "    <tr>\n",
       "      <th>5</th>\n",
       "      <td>GJ 1252 b</td>\n",
       "      <td>1.193</td>\n",
       "      <td>0.00415</td>\n",
       "      <td>NaN</td>\n",
       "    </tr>\n",
       "    <tr>\n",
       "      <th>6</th>\n",
       "      <td>HD 101581 b</td>\n",
       "      <td>0.956</td>\n",
       "      <td>NaN</td>\n",
       "      <td>834.0</td>\n",
       "    </tr>\n",
       "    <tr>\n",
       "      <th>7</th>\n",
       "      <td>HD 202772 A b</td>\n",
       "      <td>17.318</td>\n",
       "      <td>1.01700</td>\n",
       "      <td>2132.0</td>\n",
       "    </tr>\n",
       "    <tr>\n",
       "      <th>8</th>\n",
       "      <td>HIP 67522 b</td>\n",
       "      <td>9.987</td>\n",
       "      <td>NaN</td>\n",
       "      <td>1175.0</td>\n",
       "    </tr>\n",
       "    <tr>\n",
       "      <th>9</th>\n",
       "      <td>IRAS 04125+2902 b</td>\n",
       "      <td>10.738</td>\n",
       "      <td>NaN</td>\n",
       "      <td>854.0</td>\n",
       "    </tr>\n",
       "  </tbody>\n",
       "</table>\n",
       "</div>"
      ],
      "text/plain": [
       "             pl_name  pl_rade  pl_bmassj  pl_eqt\n",
       "0        eps Ind A b      NaN    6.31000   275.0\n",
       "1           AU Mic b    3.957        NaN   600.0\n",
       "2           AU Mic c    2.522        NaN   459.0\n",
       "3       BD-14 3065 b   21.590   12.37000  2001.0\n",
       "4         DS Tuc A b    5.700        NaN   850.0\n",
       "5          GJ 1252 b    1.193    0.00415     NaN\n",
       "6        HD 101581 b    0.956        NaN   834.0\n",
       "7      HD 202772 A b   17.318    1.01700  2132.0\n",
       "8        HIP 67522 b    9.987        NaN  1175.0\n",
       "9  IRAS 04125+2902 b   10.738        NaN   854.0"
      ]
     },
     "execution_count": 38,
     "metadata": {},
     "output_type": "execute_result"
    }
   ],
   "source": [
    "planet_data"
   ]
  },
  {
   "cell_type": "markdown",
   "id": "6ad1ceb8-c0ad-46b8-a9fa-666ff2d54fcb",
   "metadata": {},
   "source": [
    "------\n",
    "## 2 Plotting\n",
    "Make a scatter plot of **exoplanet Earth radius vs. equilibrium temperatures**. Include units, x/y axis labels, and a legend."
   ]
  },
  {
   "cell_type": "code",
   "execution_count": 51,
   "id": "88f9ebdb-4bb2-4e7d-9547-430b0c456a08",
   "metadata": {},
   "outputs": [
    {
     "data": {
      "image/png": "[encoded data removed]",
      "text/plain": [
       "<Figure size 640x480 with 1 Axes>"
      ]
     },
     "metadata": {},
     "output_type": "display_data"
    }
   ],
   "source": [
    "import matplotlib.pyplot as plt\n",
    "plt.scatter(planet_data['pl_rade'], planet_data['pl_eqt'], label='exoplanet')\n",
    "plt.xlabel('Earth Radius')\n",
    "plt.ylabel('Equilibrium Temperature')\n",
    "plt.title('Exoplanet Earth Radius vs. Equilibrium Temperature')\n",
    "plt.legend()\n",
    "\n",
    "plt.show()\n"
   ]
  },
  {
   "cell_type": "markdown",
   "id": "1fb6cf93-e032-4fec-a469-c12eee984e91",
   "metadata": {},
   "source": [
    "What trend do you notice in the data? Does it have positive or negative correlation?"
   ]
  },
  {
   "cell_type": "code",
   "execution_count": 53,
   "id": "ff05857a-f5bc-4711-824a-ff8dcba0bf5c",
   "metadata": {},
   "outputs": [],
   "source": [
    "#It seems to have a positive correlation"
   ]
  },
  {
   "cell_type": "markdown",
   "id": "2aca97bd-789c-45ff-8c27-5a145a8b8901",
   "metadata": {},
   "source": [
    "------\n",
    "## 3 A \"Cool\" Planet\n",
    "What planet has the **lowest** equilibrium temperature? Print the planet name and temperature with your `planet_data` variable."
   ]
  },
  {
   "cell_type": "code",
   "execution_count": 111,
   "id": "3ee3c3ba-a9a0-42e8-8f2f-6ee310446cf2",
   "metadata": {},
   "outputs": [
    {
     "name": "stdout",
     "output_type": "stream",
     "text": [
      "Planet with the lowest equilibrium temperature: eps Ind A b at temperature: 275.0 K\n"
     ]
    }
   ],
   "source": [
    "sorted_by_temp = planet_data.sort_values(by = \"pl_eqt\")\n",
    "lowest_eqt = sorted_by_temp.head(1)\n",
    "print(f\"Planet with the lowest equilibrium temperature: {lowest_eqt['pl_name'].iloc[0]} at temperature: {lowest_eqt['pl_eqt'].iloc[0]} K\")\n"
   ]
  },
  {
   "cell_type": "markdown",
   "id": "ff25a9b6-fe19-42bd-b3de-e7642a806b1c",
   "metadata": {},
   "source": [
    "Make a new variable that only contains the information for that planet. \\\n",
    "\\\n",
    "*Hint: Use the `.iloc[[#]]` function. Replace # with the proper index.*"
   ]
  },
  {
   "cell_type": "code",
   "execution_count": 113,
   "id": "97274bd4-329b-4dc3-9ab9-b2e3d5636326",
   "metadata": {},
   "outputs": [
    {
     "data": {
      "text/html": [
       "<div>\n",
       "<style scoped>\n",
       "    .dataframe tbody tr th:only-of-type {\n",
       "        vertical-align: middle;\n",
       "    }\n",
       "\n",
       "    .dataframe tbody tr th {\n",
       "        vertical-align: top;\n",
       "    }\n",
       "\n",
       "    .dataframe thead th {\n",
       "        text-align: right;\n",
       "    }\n",
       "</style>\n",
       "<table border=\"1\" class=\"dataframe\">\n",
       "  <thead>\n",
       "    <tr style=\"text-align: right;\">\n",
       "      <th></th>\n",
       "      <th>pl_name</th>\n",
       "      <th>pl_rade</th>\n",
       "      <th>pl_bmassj</th>\n",
       "      <th>pl_eqt</th>\n",
       "    </tr>\n",
       "  </thead>\n",
       "  <tbody>\n",
       "    <tr>\n",
       "      <th>0</th>\n",
       "      <td>eps Ind A b</td>\n",
       "      <td>NaN</td>\n",
       "      <td>6.31</td>\n",
       "      <td>275.0</td>\n",
       "    </tr>\n",
       "  </tbody>\n",
       "</table>\n",
       "</div>"
      ],
      "text/plain": [
       "       pl_name  pl_rade  pl_bmassj  pl_eqt\n",
       "0  eps Ind A b      NaN       6.31   275.0"
      ]
     },
     "execution_count": 113,
     "metadata": {},
     "output_type": "execute_result"
    }
   ],
   "source": [
    "lowest_eqt"
   ]
  },
  {
   "cell_type": "markdown",
   "id": "094d01b7-74a3-4f17-ae74-7c5735ea446d",
   "metadata": {},
   "source": [
    "Print the number of columns in the row. "
   ]
  },
  {
   "cell_type": "code",
   "execution_count": 88,
   "id": "6a946b1d-ed92-4565-bf15-10aba88a1535",
   "metadata": {},
   "outputs": [
    {
     "name": "stdout",
     "output_type": "stream",
     "text": [
      "4\n"
     ]
    }
   ],
   "source": [
    "print(len(lowest_eqt.columns.tolist()))"
   ]
  },
  {
   "cell_type": "markdown",
   "id": "8341c8f7-9bac-4a51-9737-0da99d26ba03",
   "metadata": {},
   "source": [
    "Make a new variable that contains only the columns WITHOUT `Nan` values. *Hint: You can use the function `.dropna(axis=1)`.*"
   ]
  },
  {
   "cell_type": "code",
   "execution_count": 91,
   "id": "e1dbc7f1-e509-443c-b2c7-1c862d9643b1",
   "metadata": {},
   "outputs": [],
   "source": [
    "without_nan = lowest_eqt.dropna(axis=1)"
   ]
  },
  {
   "cell_type": "markdown",
   "id": "614c59f8-d5b4-4a06-9e40-33c0071b539a",
   "metadata": {},
   "source": [
    "Print how many columns you have now."
   ]
  },
  {
   "cell_type": "code",
   "execution_count": 93,
   "id": "a665e644-e458-4754-98a5-249271f43a14",
   "metadata": {},
   "outputs": [
    {
     "name": "stdout",
     "output_type": "stream",
     "text": [
      "3\n"
     ]
    }
   ],
   "source": [
    "print(len(without_nan.columns.tolist()))"
   ]
  },
  {
   "cell_type": "markdown",
   "id": "beb7ec37-b591-4d91-bf93-cdbd75e0b1f3",
   "metadata": {},
   "source": [
    "Download this paper: https://www.nature.com/articles/s41586-024-07837-8. What is the title of this paper?"
   ]
  },
  {
   "cell_type": "code",
   "execution_count": 95,
   "id": "4791cbc5-5857-43c8-904a-43549bbacf65",
   "metadata": {},
   "outputs": [],
   "source": [
    "#A temperate super-Jupiter imaged with JWST in the mid-infrared"
   ]
  },
  {
   "cell_type": "markdown",
   "id": "77f91f45-bc60-49b4-afd9-236482191cde",
   "metadata": {},
   "source": [
    "What are the main conclusions from the paper? Do you trust their methods? Why would they be questionable?"
   ]
  },
  {
   "cell_type": "code",
   "execution_count": 97,
   "id": "63a338af-cd88-4448-a62d-6a97c448049d",
   "metadata": {},
   "outputs": [],
   "source": [
    "#The study reports on a giant exoplanet around the K5V star Eps Ind A, named Eps Ind Ab, which was imaged by James Webb Space Telescope(JWST) in the mid-infrared - the infrared spectrum with wavelengths between 3 to 30 micrometers. \n",
    "#Eps Ind Ab is the coldest exoplanet ever directly imaged, and it has a high metallicity and carbon-to-oxygen ratio. \n",
    "#I trust their methods since they use JWST’s mid-infrared imaging, data from other telescopes, and radial velocity measurements to confirm this exoplanet. It is also published in the Nature journal which is credible.\n",
    "#The only reason they would be questionable is that the study disagrees with previous studies about the exoplanet's orbital properties and mass. However they conclude that data may have been inaccurate due to overfitting, but nonetheless, further study should be reuired to validate these new results."
   ]
  },
  {
   "cell_type": "markdown",
   "id": "c950c176-63e3-4845-abd9-c396ffa8b1eb",
   "metadata": {},
   "source": [
    "The planet with the **lowest effective temperature** from your `exoplanet_data.csv` file should match the planet from the paper you just downloaded. What values for the `.csv` file match the ones in the paper? "
   ]
  },
  {
   "cell_type": "code",
   "execution_count": 99,
   "id": "362c185f-aab4-43d1-a8bc-ac70bf7f9d73",
   "metadata": {},
   "outputs": [],
   "source": [
    "#The equilibrium temperature and mass in jupiters matches."
   ]
  },
  {
   "cell_type": "markdown",
   "id": "8d59cf95-fc90-47ad-8b7c-2a553138596e",
   "metadata": {},
   "source": [
    "Which values from the `.csv` file I provided you DON'T match the ones from the paper?"
   ]
  },
  {
   "cell_type": "code",
   "execution_count": 75,
   "id": "6ceaf40f-d4fe-47c6-9624-449c5d400ef0",
   "metadata": {},
   "outputs": [],
   "source": [
    "#The radius of the planet doesn't match."
   ]
  },
  {
   "cell_type": "markdown",
   "id": "7b68ec75-a2ba-40ae-907e-349127c7221d",
   "metadata": {},
   "source": [
    "In the paper, find the age of the planet. What is the age, with error, of the planet?"
   ]
  },
  {
   "cell_type": "code",
   "execution_count": 77,
   "id": "5232880e-1c28-451f-8600-43173a181000",
   "metadata": {},
   "outputs": [],
   "source": [
    "#3.5 + 0.8 / 3.5 - 1.3 in gyr"
   ]
  },
  {
   "cell_type": "markdown",
   "id": "b3e8768c-20e1-4e36-9c10-fb4f5349421d",
   "metadata": {},
   "source": [
    "Create a new column called `Age` with your new variable and assign it the proper value. "
   ]
  },
  {
   "cell_type": "code",
   "execution_count": 127,
   "id": "09327b2b-7d29-4719-b72a-e8938acc0231",
   "metadata": {},
   "outputs": [
    {
     "data": {
      "text/html": [
       "<div>\n",
       "<style scoped>\n",
       "    .dataframe tbody tr th:only-of-type {\n",
       "        vertical-align: middle;\n",
       "    }\n",
       "\n",
       "    .dataframe tbody tr th {\n",
       "        vertical-align: top;\n",
       "    }\n",
       "\n",
       "    .dataframe thead th {\n",
       "        text-align: right;\n",
       "    }\n",
       "</style>\n",
       "<table border=\"1\" class=\"dataframe\">\n",
       "  <thead>\n",
       "    <tr style=\"text-align: right;\">\n",
       "      <th></th>\n",
       "      <th>pl_name</th>\n",
       "      <th>pl_rade</th>\n",
       "      <th>pl_bmassj</th>\n",
       "      <th>pl_eqt</th>\n",
       "      <th>Age</th>\n",
       "    </tr>\n",
       "  </thead>\n",
       "  <tbody>\n",
       "    <tr>\n",
       "      <th>0</th>\n",
       "      <td>eps Ind A b</td>\n",
       "      <td>NaN</td>\n",
       "      <td>6.31</td>\n",
       "      <td>275.0</td>\n",
       "      <td>3.5</td>\n",
       "    </tr>\n",
       "  </tbody>\n",
       "</table>\n",
       "</div>"
      ],
      "text/plain": [
       "       pl_name  pl_rade  pl_bmassj  pl_eqt  Age\n",
       "0  eps Ind A b      NaN       6.31   275.0  3.5"
      ]
     },
     "execution_count": 127,
     "metadata": {},
     "output_type": "execute_result"
    }
   ],
   "source": [
    "lowest_eqt = lowest_eqt.copy()\n",
    "lowest_eqt['Age'] = 3.5\n",
    "lowest_eqt"
   ]
  },
  {
   "cell_type": "markdown",
   "id": "eb0de4b0-af46-44ab-91f2-d6404aef61d9",
   "metadata": {},
   "source": [
    "## 4 Make a New `.csv` File"
   ]
  },
  {
   "cell_type": "markdown",
   "id": "cf60492f-2dcc-4e4b-85f3-a7eca9e34791",
   "metadata": {},
   "source": [
    "To a new `.csv` file, save the planet WITHOUT the Nan rows and WITH the `Age` column added. "
   ]
  },
  {
   "cell_type": "code",
   "execution_count": 141,
   "id": "bcebe514-fc72-4e0a-9b96-00948efb8139",
   "metadata": {},
   "outputs": [],
   "source": [
    "new_csv = lowest_eqt.dropna(axis=1)\n",
    "new_csv.to_csv('new_csv.csv', index=False)"
   ]
  },
  {
   "cell_type": "markdown",
   "id": "cb9970e2-8b54-4c67-a872-be83c4042c18",
   "metadata": {},
   "source": [
    "Turn in this jupyter notebook to gradescope with your NEW `.csv` file."
   ]
  }
 ],
 "metadata": {
  "kernelspec": {
   "display_name": "Python 3 (ipykernel)",
   "language": "python",
   "name": "python3"
  },
  "language_info": {
   "codemirror_mode": {
    "name": "ipython",
    "version": 3
   },
   "file_extension": ".py",
   "mimetype": "text/x-python",
   "name": "python",
   "nbconvert_exporter": "python",
   "pygments_lexer": "ipython3",
   "version": "3.12.4"
  }
 },
 "nbformat": 4,
 "nbformat_minor": 5
}
