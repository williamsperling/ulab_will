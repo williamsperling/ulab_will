{
 "cells": [
  {
   "cell_type": "markdown",
   "id": "21a1f0d2-d75c-4443-b816-1d1db3760454",
   "metadata": {},
   "source": [
    "# HW 4 - Functions \n",
    "ULAB - Physics and Astronomy Division \\\n",
    "Due **Wednesday, October 16th, 2024 at 11:59pm** on Gradescope\n",
    "\n",
    "### Once you are done with this homework, make sure to include a screenshot of you pushing this notebook inside of your homework4 branch. Make sure to include this screenshot in your branch before submitting to Gradescope!\n",
    "\n",
    "### If there is no screenshot, then you will recieve a zero! \n",
    "\n",
    "Hello ULAB! For this homework assigmnet you will continue practicing how Python handles variables, data types, functions, comments and operations! We will also touch on comments, naming conventions and hardcoding. The objective for this homework is to practice writing Python code in a structured and readable manner!\n",
    "\n",
    "Since data types were primarily covered during homework 3, we will not spend a lot of time reviewing them in this homework. Refer to Lecture #4 or ask the internet if you forget!"
   ]
  },
  {
   "cell_type": "markdown",
   "id": "8dc7e46b-1e8e-486c-a2e9-d615c687028b",
   "metadata": {},
   "source": [
    "# 1 Good Coding Practices and Debugging\n",
    "Make sure that you don't repeat any variable, function or argument names. Its a good practice to have unique names for each of these throughout an entire notebook or project! \n",
    "\n",
    "In the comment below include at least 3 bugs you ran into during this homework assignment. Give the error message, what the error message means (google it) and how you fixed the problem.  "
   ]
  },
  {
   "cell_type": "code",
   "execution_count": null,
   "id": "08dabd73-3dbc-4aab-843a-d4b81102835d",
   "metadata": {},
   "outputs": [],
   "source": [
    "# Your comments here"
   ]
  },
  {
   "cell_type": "markdown",
   "id": "5e1ba0c0-5dd9-44e8-895c-73a36d614949",
   "metadata": {},
   "source": [
    "# 2 Arithmetic Operations\n",
    "**Arithmetic Operations** allow you to perform mathematical calculations inside of Python (just like a calculator).  "
   ]
  },
  {
   "cell_type": "markdown",
   "id": "ef6d2845-2d80-4517-aa70-0e0b2d9e7882",
   "metadata": {},
   "source": [
    "## 2.1 Arithmetic Function\n",
    "Write a function called that takes two numbers (`a` and `b`) as arguments and returns a list or tuple with:\n",
    "\n",
    "- The sum of `a` and `b`\n",
    "- The difference when `b` is subtracted from `a`\n",
    "- The product of `a` and `b`\n",
    "- The division of `a` by `b` (normal division)\n",
    "- The floor division of `a` by `b`\n",
    "- The remainder when `a` is divided by `b`\n",
    "- `a` raised to the power of `b`\n",
    "\n",
    "Don't forget to include a comment describing what the function is doing! Use a different function name than me! And make sure to show multiple test cases (inputs), including the one I gave you (num_1 = 10, num_2 = 3).\n",
    "\n",
    "Example:\n",
    "\n",
    "```\n",
    ">>> def arithmetic_operations(num_1, num_2):\n",
    "...     # Your comment here\n",
    "...     # Your code here\n",
    "...     return # Your code here\n",
    "\n",
    ">>> a = 10\n",
    ">>> b = 3\n",
    ">>> operations = arithmetic_operations(num_1 = a, num_2 = b)\n",
    ">>> print(operations)\n",
    "\n",
    "(13, 7, 30, 3.3333333333333335, 3, 1, 1000) \n",
    "```"
   ]
  },
  {
   "cell_type": "code",
   "execution_count": null,
   "id": "f8526535-a6a9-46be-83d3-658ad4500762",
   "metadata": {},
   "outputs": [],
   "source": [
    "# Your code here"
   ]
  },
  {
   "cell_type": "markdown",
   "id": "9672e601-ce1a-4f2c-8de0-ce168ef0a12e",
   "metadata": {},
   "source": [
    "In the cell below (as a comment) describe your thinking process and how your function displays good *function writing processes* as described in lecture. Must be at least 2 sentences."
   ]
  },
  {
   "cell_type": "code",
   "execution_count": 8,
   "id": "b7eec35e-3263-4c40-a474-c0dfd924b764",
   "metadata": {},
   "outputs": [],
   "source": [
    "# Your thinking process and description here"
   ]
  },
  {
   "cell_type": "markdown",
   "id": "49eb4bc2-e109-46c7-8235-c53d269c358f",
   "metadata": {},
   "source": [
    "## 2.2 Increment by Five\n",
    "Write a function with assignment operators, that takes a number and returns the number incremented by 5 and multiplied by 3.\n",
    "\n",
    "Don't forget to include a comment describing what the function is doing! Use a different function name than me! And make sure to show multiple test cases (inputs), including the one I gave you (num_1 = 10).\n",
    "Example:\n",
    "```\n",
    ">>> def increment_and_multiply(num_1, num_2):\n",
    "...     # Your comment here\n",
    "...     # Your code here\n",
    "...     return # Your code here\n",
    "\n",
    ">>> x = 10\n",
    ">>> print(increment_by_5(x))\n",
    "60\n",
    "```"
   ]
  },
  {
   "cell_type": "code",
   "execution_count": 7,
   "id": "7de14ca3-65c2-463f-8345-529603368c0a",
   "metadata": {},
   "outputs": [],
   "source": [
    "# Your code here"
   ]
  },
  {
   "cell_type": "markdown",
   "id": "05c0bd02-7031-41b4-b598-178b883b9418",
   "metadata": {},
   "source": [
    "In the cell below (as a comment) describe your thinking process and the purpose of assignment operators. Must be at least 2 sentences."
   ]
  },
  {
   "cell_type": "code",
   "execution_count": null,
   "id": "aba9e76c-4f39-4dd9-a533-457ac788b4d7",
   "metadata": {},
   "outputs": [],
   "source": [
    "# Your thinking process and response here"
   ]
  },
  {
   "cell_type": "markdown",
   "id": "33b71724-2522-4ce9-8cb3-eb0ed6200d96",
   "metadata": {},
   "source": [
    "## 2.3 Setting a Range\n",
    "Write a function that takes in three arguments (x, low, high) and returns True if x is between low and high (inclusive), otherwise it returns False. Use comparison operator to check the three arguments!\n",
    "\n",
    "Don't forget to include a comment describing what the function is doing! And use a different function name than me!\n",
    "\n",
    "Example:\n",
    "```\n",
    ">>> def is_in_range(x, low, high):\n",
    "...     # Your comment here\n",
    "...     # Your code here\n",
    "...     return # Your code here\n",
    "\n",
    ">>> print(is_in_range(5, 1, 10))\n",
    "\n",
    "True\n",
    "\n",
    ">>> print(is_in_range(15, 1, 10))\n",
    "\n",
    "False\n",
    "```"
   ]
  },
  {
   "cell_type": "code",
   "execution_count": 9,
   "id": "6fccfc23-bb87-4390-9291-7f3269472573",
   "metadata": {},
   "outputs": [],
   "source": [
    "# Your code here"
   ]
  },
  {
   "cell_type": "markdown",
   "id": "764fe405-5749-4237-bfae-27a616321954",
   "metadata": {},
   "source": [
    "In the cell below (as a comment) describe your thinking process and how your function displays good *function writing processes* as described in lecture. Must be at least 2 sentences."
   ]
  },
  {
   "cell_type": "code",
   "execution_count": 2,
   "id": "9b3c7ec6-8101-449e-b2a0-e2910b441b52",
   "metadata": {},
   "outputs": [],
   "source": [
    "# Your thinking process and description here"
   ]
  },
  {
   "cell_type": "markdown",
   "id": "242ced1e-1ed9-4b7a-ab2e-031daf67c8cb",
   "metadata": {},
   "source": [
    "## 2.4 Adding Strings Together\n",
    "Write a function that takes in at least 5 words and makes a sentence with proper grammer.\n",
    "\n",
    "Example:\n",
    "\n",
    "```\n",
    ">>> def making_sentences(a, b, c, d, e):\n",
    "...     # Your comment here\n",
    "...     # Your code here\n",
    "...     return # Your code here\n",
    "\n",
    ">>> a = \"Here\"\n",
    ">>> b = \"is\"\n",
    ">>> c = \"your\"\n",
    ">>> d = \"iced\"\n",
    ">>> e = \"latte\"\n",
    ">>> my_fav_sentence = making_sentences(a, b, c, d, e)\n",
    ">>> print(my_fav_sentence)\n",
    "\n",
    "'Here is your iced latte!'\n",
    "```"
   ]
  },
  {
   "cell_type": "code",
   "execution_count": null,
   "id": "12165244-8b1a-4abc-b65d-10547db823d5",
   "metadata": {},
   "outputs": [],
   "source": [
    "# Your code here"
   ]
  },
  {
   "cell_type": "markdown",
   "id": "75e1ebff-f910-40e3-9f9d-5988da68e107",
   "metadata": {},
   "source": [
    "# 3 Introduction to Scripting\n",
    "The act of **scripting** is glueing different pieces of code together. Let's practice!\n",
    "\n"
   ]
  },
  {
   "cell_type": "markdown",
   "id": "083add03-eaa2-4628-9dca-32f37dc8da9d",
   "metadata": {},
   "source": [
    "## 3.1 Define Multiple Functions\n",
    "Write two different functions:\n",
    "- One that converts celsius to fahrenheit\n",
    "- One that converts celsius to kelvin\n",
    "\n",
    "You will need to google these formulas if you don't know them off the top of your head! Because haha I don't know them."
   ]
  },
  {
   "cell_type": "code",
   "execution_count": 10,
   "id": "569001a8-f62a-4fdc-bebe-ec27f77f2385",
   "metadata": {},
   "outputs": [],
   "source": [
    "# Your code here"
   ]
  },
  {
   "cell_type": "markdown",
   "id": "a7dbe056-b57e-4ae8-af3a-a38acf20ac95",
   "metadata": {},
   "source": [
    "## 3.2 Calling Upon Other Functions\n",
    "Write a function that takes the two functions you wrote above and calls on them. Have you function return the values. Print the answer below. \n",
    "\n",
    "Example:\n",
    "\n",
    "```\n",
    ">>> def my_function():\n",
    "...     # Your comment here\n",
    "...     fahrenheit = first_function() # Just an example, your code here\n",
    "...     kelvin = second_function() # Another example, your code here\n",
    "...     return # Your code here\n",
    "\n",
    ">>> print(my_function())\n",
    "```\n",
    "\n",
    "Include screaming snake case syntax if you think it applies to this question. If not, include a comment explaining why not. "
   ]
  },
  {
   "cell_type": "code",
   "execution_count": 11,
   "id": "299f6dd8-7dda-4465-96f7-712e9149e179",
   "metadata": {},
   "outputs": [],
   "source": [
    "# Your code here"
   ]
  },
  {
   "cell_type": "markdown",
   "id": "4f50c562-1890-4fc1-adce-246e2ed77719",
   "metadata": {},
   "source": [
    "# 4 Get Creative\n",
    "Write a function on something that is not covered in this notebook. For example: assignment/comparison operators that you haven't worked with yet, global vs. local variables (like when it would be a good idea to use a global variable), default arguments, or all of the above! But your function definitely doesn't have to include everything we didn't cover in this assignment, picking one thing is perfectly fine. \n",
    "\n",
    "Bonus points if you teach me something new. (No importing packages for this question, if you don't know what that means we will learn in the following weeks!)"
   ]
  },
  {
   "cell_type": "code",
   "execution_count": null,
   "id": "0c65d553-05b5-4f2f-8312-3e9ff1550753",
   "metadata": {},
   "outputs": [],
   "source": [
    "# Your code here"
   ]
  },
  {
   "cell_type": "markdown",
   "id": "8cf33b19-9bca-484e-8129-d8a4896a1bfa",
   "metadata": {},
   "source": [
    "# 5 Proper Submission\n",
    "To recieve full credit for this assignment make sure you do the following:\n",
    "1) Copy this jupter notebook from the `ulab_2024` repository into **YOUR** local `homework` branch.\n",
    "   \n",
    "3) Follow the tasks. Make sure to run all the cells so that all output is visible.\n",
    "   \n",
    "5) Push this notebook to your remote `homework4` branch. Refer to the lecture slides for more information.\n",
    "      \n",
    "6) **WARNING!! IF YOU DO NOT FOLLOW THIS STEP YOU WILL RECIEVE A ZERO!**\n",
    "   1) Take a screenshot of your command line when you `push` this notebook from your local `homework4` branch to your remote `homework4` branch. Make sure to prove that you are inside a branch besides `main` or `master` by calling `git branch` and make sure to prove that your `homework4` branch only contains the homework4 folder of Jupyter Notebook you copied over from `ulab_2024` (which can be done by calling `ls`). \n",
    "   3)  Include that screenshot in your remote branch when you upload your GitHub branch to Gradescope!\n",
    "  \n",
    "(Optional) Do you have any comments about this homework assigment or the class? Any questions you need answered? Please type them below. "
   ]
  },
  {
   "cell_type": "code",
   "execution_count": null,
   "id": "fe93d7e1-ab53-49bd-8b50-aba721d0d2d4",
   "metadata": {},
   "outputs": [],
   "source": [
    "# Your comment here"
   ]
  }
 ],
 "metadata": {
  "kernelspec": {
   "display_name": "Python 3 (ipykernel)",
   "language": "python",
   "name": "python3"
  },
  "language_info": {
   "codemirror_mode": {
    "name": "ipython",
    "version": 3
   },
   "file_extension": ".py",
   "mimetype": "text/x-python",
   "name": "python",
   "nbconvert_exporter": "python",
   "pygments_lexer": "ipython3",
   "version": "3.11.0"
  }
 },
 "nbformat": 4,
 "nbformat_minor": 5
}
