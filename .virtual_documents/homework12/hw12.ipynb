





#I certify that I did not use AI tools, such as ChatGPT, 
#to generate or write code for this assignment. All work submitted is my own and reflects my understanding 
#of the material 
#Will Sperling





import pandas as pd





dataframe = pd.read_csv("exoplanet_data.csv")
dataframe





dataframe.columns





print(dataframe.columns.tolist())





print(dataframe["pl_name"])





print(len(dataframe))





planet_data = dataframe[['pl_name', 'pl_rade', 'pl_bmassj', 'pl_eqt']]





planet_data





import matplotlib.pyplot as plt
plt.scatter(planet_data['pl_rade'], planet_data['pl_eqt'], label='exoplanet')
plt.xlabel('Earth Radius')
plt.ylabel('Equilibrium Temperature')
plt.title('Exoplanet Earth Radius vs. Equilibrium Temperature')
plt.legend()

plt.show()






#It seems to have a positive correlation





sorted_by_temp = planet_data.sort_values(by = "pl_eqt")
lowest_eqt = sorted_by_temp.head(1)
print(f"Planet with the lowest equilibrium temperature: {lowest_eqt['pl_name'].iloc[0]} at temperature: {lowest_eqt['pl_eqt'].iloc[0]} K")






lowest_eqt





print(len(lowest_eqt.columns.tolist()))





without_nan = lowest_eqt.dropna(axis=1)





print(len(without_nan.columns.tolist()))





#A temperate super-Jupiter imaged with JWST in the mid-infrared





#The study reports on a giant exoplanet around the K5V star Eps Ind A, named Eps Ind Ab, which was imaged by James Webb Space Telescope(JWST) in the mid-infrared - the infrared spectrum with wavelengths between 3 to 30 micrometers. 
#Eps Ind Ab is the coldest exoplanet ever directly imaged, and it has a high metallicity and carbon-to-oxygen ratio. 
#I trust their methods since they use JWST’s mid-infrared imaging, data from other telescopes, and radial velocity measurements to confirm this exoplanet. It is also published in the Nature journal which is credible.
#The only reason they would be questionable is that the study disagrees with previous studies about the exoplanet's orbital properties and mass. However they conclude that data may have been inaccurate due to overfitting, but nonetheless, further study should be reuired to validate these new results.





#The equilibrium temperature and mass in jupiters matches.





#The radius of the planet doesn't match.





#3.5 + 0.8 / 3.5 - 1.3 in gyr





lowest_eqt = lowest_eqt.copy()
lowest_eqt['Age'] = 3.5
lowest_eqt








new_csv = lowest_eqt.dropna(axis=1)
new_csv.to_csv('new_csv.csv', index=False)



