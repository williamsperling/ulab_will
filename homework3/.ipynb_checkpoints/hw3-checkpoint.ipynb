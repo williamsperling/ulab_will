{
 "cells": [
  {
   "cell_type": "markdown",
   "id": "8c894aa1-d8b0-4ba6-8f07-dd4bc51de161",
   "metadata": {},
   "source": [
    "# HW 3 - Jupyter Notebooks \n",
    "ULAB - Physics and Astronomy Division \\\n",
    "Due **Wednesday, October 9th, 2024 at 11:59pm** on Gradescope\n",
    "\n",
    "### MAKE SURE TO TAKE A SCREENSHOT OF PUSHING THIS ASSIGNMENT FROM YOUR LOCAL TO REMOTE REPOSITORY OR YOU WILL RECIEVE A ** *ZERO* ** FOR THIS ASSIGNMENT!!\n",
    "(more information in task 5)\n",
    "\n",
    "# Welcome to Python!\n",
    "You made it! If you are looking at this Jupyter Notebook, it means you have completed **all** installations for this class! We have one last topic to cover about **branching** next lecture, but everything Python related will be covered in these notebooks!\n",
    "\n",
    "## 1) What is a Jupyter Notebook?\n",
    "To make coding easier, Jupyter notebooks are split into chunks called **cells**.\n",
    "\n",
    "There are **two** types of cells:\n",
    "1) **Markdown Cells** - These cells contain plain text (like the cell you are reading right now).\n",
    "2) **Code Cells** - These cells contain code that can be executed.\n",
    "\n",
    "For this assignment (and class) you don't need to worry about Markdown cells, just focus on the code cells for now.\n",
    "\n",
    "## 2) How does a Jupyter Notebook work?\n",
    "Click on a code cell, it will outline itself in blue. Now you are in **Edit Mode** and can make change to the code. \n",
    "\n",
    "To run a cell, press `Shift + Enter` while the cell is highlighted in blue. \n",
    "\n",
    "All the text and numbers inside a code cell will be read by a computer, unless you add a `#` in front, making it a **comment**. Comments help explain what the code is doing to a programmer.\n",
    "\n",
    "All right! You are good to go! Answer the questions below. "
   ]
  },
  {
   "cell_type": "markdown",
   "id": "3b8b06a4-c578-4fdf-8209-0d5994831547",
   "metadata": {},
   "source": [
    "# 1 Practice Running Code\n",
    "Run the Python code in the code cell below. Click on the cell and press `Shift + Enter` to run it."
   ]
  },
  {
   "cell_type": "code",
   "execution_count": null,
   "id": "57ebc44a-694b-47d0-8c86-cc9acea558b4",
   "metadata": {},
   "outputs": [],
   "source": [
    "# reminder: if a \"#\" is in front of a line of code, your computer will NOT read it\n",
    "# have python print the following message by running this cell:\n",
    "print(\"Python is awesome!\")"
   ]
  },
  {
   "cell_type": "markdown",
   "id": "7384eb27-e588-4e88-9d88-d40c46722d86",
   "metadata": {},
   "source": [
    "# 2 Variables and Data Types\n",
    "In Python, we store information in **variables**. Variables have different types (e.g. numbers, text) that you need to differentiate between. Let's explore some of these data types!\n",
    "\n",
    "Run the example cell below."
   ]
  },
  {
   "cell_type": "code",
   "execution_count": null,
   "id": "82052fb0-173e-4235-bed3-00560f38a46c",
   "metadata": {},
   "outputs": [],
   "source": [
    "age = 20 # this is a variable (specifically an integer)\n",
    "print(\"The age is:\", age)"
   ]
  },
  {
   "cell_type": "markdown",
   "id": "468beb1d-3c27-4606-91fd-ee283fcafea0",
   "metadata": {},
   "source": [
    "## 2.1 Integers (int)\n",
    "**Integers** are whole numbers like `20` or `4218462`. \n",
    "\n",
    "### Follow the tasks below:\n",
    "1) Create a variable called `year`. Give it the value of our current year\n",
    "2) Print `The current year is:` followed by the value of year.\n",
    "3) Print the type of your `year` variable by calling `type(year)` to confirm its an integer."
   ]
  },
  {
   "cell_type": "code",
   "execution_count": null,
   "id": "f0ab163c-96b7-4a2c-a183-36467c525deb",
   "metadata": {},
   "outputs": [],
   "source": [
    "# your code here"
   ]
  },
  {
   "cell_type": "markdown",
   "id": "50e21dfd-a164-45ee-9bcb-b402f1fd2f51",
   "metadata": {},
   "source": [
    "## 2.2 Floating Point Numbers (float)\n",
    "**Floats** (floating point numbers) are numberes with decimals like `3.14` or `184.143`. \n",
    "\n",
    "### Follow the tasks below:\n",
    "1) Create a variable called `temperature`, set it to `98.6` and print it.\n",
    "2) Print the type of your `temperature` variable by calling `type(temperature)` to confirm its a float."
   ]
  },
  {
   "cell_type": "code",
   "execution_count": null,
   "id": "a1c41aa3-6cd5-4c5d-b337-ec7bbc201040",
   "metadata": {},
   "outputs": [],
   "source": [
    "# your code here"
   ]
  },
  {
   "cell_type": "markdown",
   "id": "7a755fcf-d378-4ea8-97b4-76ba9f9ff8e3",
   "metadata": {},
   "source": [
    "## 2.3 Strings (str)\n",
    "**Strings** are text, which must be enclosed in quotes (`\"\"`). \n",
    "\n",
    "### Follow the tasks below:\n",
    "1) Create a variable called `name` and set it to your name. \n",
    "2) Print the type of your `name` variable to confirm its a string."
   ]
  },
  {
   "cell_type": "code",
   "execution_count": null,
   "id": "addf2f29-619b-4b6d-964c-070c588facac",
   "metadata": {},
   "outputs": [],
   "source": [
    "# your code here"
   ]
  },
  {
   "cell_type": "markdown",
   "id": "81f2faba-ff93-4281-8a9d-777e122ebd06",
   "metadata": {},
   "source": [
    "## 2.4 Booleans (bool)\n",
    "**Booleans** take on a value of either `True` or `False`.\n",
    "\n",
    "### Follow the tasks below:\n",
    "1) Create a variable called `weekend` and set it to either True of False depending on what day you are working on this assigenemnt.\n",
    "2) Print the type of your `weekend` variable to confirm its a boolean."
   ]
  },
  {
   "cell_type": "code",
   "execution_count": null,
   "id": "2c99cd66-dd31-4c54-bb2b-ec3d99b5c7dd",
   "metadata": {},
   "outputs": [],
   "source": [
    "# your code here"
   ]
  },
  {
   "cell_type": "markdown",
   "id": "c345994d-6318-4db0-bf7c-638a0f60bf12",
   "metadata": {},
   "source": [
    "## 2.5 Lists (list)\n",
    "**Lists** store multiple items in a single variable. They can store multiple data types.\n",
    "\n",
    "Example: `list = [\"red\", 4.2, False]`\n",
    "\n",
    "### Follow the tasks below:\n",
    "1) Create a variable called `favorite_colors` and add your three favorite colors.\n",
    "2) Print the type of your `favorite_colors` variable to confirm its a list."
   ]
  },
  {
   "cell_type": "code",
   "execution_count": null,
   "id": "4f69d2cc-c723-4f24-ae25-e86d6df6e383",
   "metadata": {},
   "outputs": [],
   "source": [
    "# your code here"
   ]
  },
  {
   "cell_type": "markdown",
   "id": "475737dd-b0af-4c14-b295-f96d9f25b87a",
   "metadata": {},
   "source": [
    "# 3 Python = Fancy Calculator\n",
    "In addition to just setting values to variables, you can also do arithmitc with Python.\n",
    "\n",
    "Run the example cells below."
   ]
  },
  {
   "cell_type": "code",
   "execution_count": null,
   "id": "9b29f77e-be07-4bca-a598-c8b6f85517cb",
   "metadata": {},
   "outputs": [],
   "source": [
    "answer = 2 + 2 * 5\n",
    "print(answer)"
   ]
  },
  {
   "cell_type": "code",
   "execution_count": null,
   "id": "f1c7f184-faed-4d08-83e4-be3b9b5a0663",
   "metadata": {},
   "outputs": [],
   "source": [
    "num1 = 4\n",
    "num2 = 6\n",
    "print(num1 + num2)"
   ]
  },
  {
   "cell_type": "markdown",
   "id": "f281342f-160d-4243-8a95-74005e351d2b",
   "metadata": {},
   "source": [
    "### Follow the tasks below:\n",
    "1) Create a variable called `radius` set it to 5.\n",
    "2) Use Python to calculate the area of a the circle:\n",
    "3) Print the answer.\n",
    "$\n",
    "Area = \\pi r^2\n",
    "$"
   ]
  },
  {
   "cell_type": "code",
   "execution_count": null,
   "id": "d5e10a8f-cad8-4d03-9de0-3c6da3f87172",
   "metadata": {},
   "outputs": [],
   "source": [
    "# your code here"
   ]
  },
  {
   "cell_type": "markdown",
   "id": "b92d0c1b-8595-4cb3-8c4b-3a01a47a7e69",
   "metadata": {},
   "source": [
    "# 4 Errors and Debugging\n",
    "A major part of coding is debugging or trouble-shooting errors! Run the cell below, you will get an error.\n",
    "\n",
    "### Follow the task below:\n",
    "1) Fix the line of code below so it runs properly."
   ]
  },
  {
   "cell_type": "code",
   "execution_count": null,
   "id": "6c549698-3134-4653-b1e7-0dbadd77413d",
   "metadata": {},
   "outputs": [],
   "source": [
    "print(\"Something is wrong)"
   ]
  },
  {
   "cell_type": "markdown",
   "id": "1eefccb3-b7df-4d55-9101-1164f74c4034",
   "metadata": {},
   "source": [
    "# 5) Proper Submission\n",
    "To recieve full credit for this assignment make sure you do the following:\n",
    "1) Copy this jupter notebook from the `ulab_2024` repository into **YOUR** local repository `ulab_yourname`. Make sure you are editing this notebook inside your personal local repository.\n",
    "   \n",
    "3) Follow the tasks. Make sure to run all the cells so that all output is visible.\n",
    "   \n",
    "5) Push this notebook to your remote repository. *Hint:* You will need to call `git add`, `git commit` and `git push` in your command line. Refer to the lecture slides for more information.\n",
    "      \n",
    "6) **WARNING!! IF YOU DO NOT FOLLOW THIS STEP YOU WILL RECIEVE A ZERO!**\n",
    "   1) Take a screenshot of your command line when you `push` this notebook from your local to remote repository. If you choose to call `git add .` make sure to prove this notebook is included in that call (ex: call`ls` in your terminal right before `git add .`.)\n",
    "   3)  Include that screenshot in your remote repository when you upload your GitHub repository to Gradescope!"
   ]
  }
 ],
 "metadata": {
  "kernelspec": {
   "display_name": "Python 3 (ipykernel)",
   "language": "python",
   "name": "python3"
  },
  "language_info": {
   "codemirror_mode": {
    "name": "ipython",
    "version": 3
   },
   "file_extension": ".py",
   "mimetype": "text/x-python",
   "name": "python",
   "nbconvert_exporter": "python",
   "pygments_lexer": "ipython3",
   "version": "3.11.0"
  }
 },
 "nbformat": 4,
 "nbformat_minor": 5
}
