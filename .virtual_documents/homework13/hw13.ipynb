





# Your comment here





import numpy as np
import matplotlib.pyplot as plt
from scipy.integrate import solve_ivp





g = 9.81
L = 1.0 #meters





def pendulum(t, y):
    theta, omega = y #y[0] = theta, y[1] = omega
    dtheta_dt = omega
    domega_dt = -(g/L)*np.sin(theta)
    return [dtheta_dt, domega_dt]





theta_0 = np.radians(10) # Convert 10 degrees to radians
omega_0 = 0.0 # Initial angular velocity





t_span = (0, 10) #10 second simulation
t_eval = np.linspace(0, 10, 500) #time steps for evaluation
sol = solve_ivp(pendulum, t_span, [theta_0, omega_0], t_eval=t_eval)





theta_values = sol.y[0]
time_values = sol.t





# Your code here





# Your code here





zero_crossings = np.where(np.diff(np.sign(theta_values)))[0]
if len(zero_crossings) >= 2:
    T_numerical = 2 * (time_values[zero_crossings[1]] - time_values[zero_crossings[0]])
else:
    T_numerical = None





plt.plot(time_values, theta_values, label = "Numerical Solution")





# Your code here





# Your comment here





# Your code here





url = "https://covid.ourworldindata.org/data/owid-covid-data.csv"





# Your code here





# Your code here








# Your code here





# Your code here





# Your code here





# Your code here





# Your code here





# Your code here





# Your code here





# Your code here





# Your code here





# Your code here 





# Your code here





# Your comment here





# Your code here





# Your code here





# Your code here



