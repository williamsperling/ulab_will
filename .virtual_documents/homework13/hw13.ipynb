











import numpy as np
import matplotlib.pyplot as plt
from scipy.integrate import solve_ivp





g = 9.81
L = 1.0 #meters





def pendulum(t, y):
    theta, omega = y #y[0] = theta, y[1] = omega
    dtheta_dt = omega
    domega_dt = -(g/L)*np.sin(theta)
    return [dtheta_dt, domega_dt]





theta_0 = np.radians(10) # Convert 10 degrees to radians
omega_0 = 0.0 # Initial angular velocity





t_span = (0, 10) #10 second simulation
t_eval = np.linspace(0, 10, 500) #time steps for evaluation
sol = solve_ivp(pendulum, t_span, [theta_0, omega_0], t_eval=t_eval)





theta_values = sol.y[0]
time_values = sol.t





def theoretical_period(L):
    period = 2 * np.pi * np.sqrt(L / g)
    return period





T = np.round(theoretical_period(L), 1)
print(f"Theoretical Period: {T} seconds")





zero_crossings = np.where(np.diff(np.sign(theta_values)))[0]
if len(zero_crossings) >= 2:
    T_numerical = 2 * (time_values[zero_crossings[1]] - time_values[zero_crossings[0]])
else:
    T_numerical = None


print(zero_crossings)





plt.plot(time_values, theta_values, label = "Numerical Solution")
plt.xlabel("Time(s)")
plt.ylabel("Theta(radians)")
plt.title("Pendulum Motion")





print(np.round(T_numerical, 4))











import pandas as pd








df = pd.read_csv("OWID COVID Data.csv")





df_country = df[df["location"] == "United States"]





df_country = df_country[["date", "total_cases"]].dropna()





df_country["days since start"] = range(len(df_country))





df_country.head()





from scipy.optimize import curve_fit
import numpy as np





def exponential_growth(t, C_0, r):
    return C_0 * np.exp(r * t)





days = df_country["days since start"].iloc[:30].values
cases = df_country["total_cases"].iloc[:30].values





popt, pcov = curve_fit(exponential_growth, days, cases, p0=[1, 0.1])





C_0_fit, r_fit = popt





print(np.round(C_0_fit, 2))


print(np.round(r_fit, 4))





import matplotlib.pyplot as plt


future_days = np.arange(0, 60)





predicted_cases = exponential_growth(future_days, *popt)





plt.scatter(days, cases, color='blue', label='Actual Cases')

plt.plot(future_days, predicted_cases, color='red', label='Predicted Cases')


plt.xlabel('Days Since Start')
plt.ylabel('Total Cases')
plt.title('COVID-19 Cases: Actual vs. Predicted for 60 Days')

plt.legend()












future_days_90 = np.arange(0, 90)

predicted_cases_90 = exponential_growth(future_days_90, *popt)

plt.scatter(days, cases, color='blue', label='Actual Cases')

plt.plot(future_days_90, predicted_cases_90, color='red', label='Predicted Cases')


plt.xlabel('Days Since Start')
plt.ylabel('Total Cases')
plt.title('COVID-19 Cases: Actual vs. Predicted (Up to 90 Days)')


plt.legend()


plt.show()






print(exponential_growth(87, *popt))





import seaborn as sns


exercise = sns.load_dataset('exercise')


plt.figure(figsize=(10, 6))
sns.violinplot(data=exercise, x='diet', y='pulse', hue='kind', split=True, inner='quart', palette='muted')

plt.xlabel('Diet Type')
plt.ylabel('Pulse')
plt.title('Pulse Comparison by Diet and Exercise Kind')

plt.show()


from scipy import stats
#adding a linear regression line of predicted pulse

exercise['time'] = exercise['time'].str.replace(' min', '').astype(float)

time = exercise['time']
pulse = exercise['pulse']

slope, intercept, _, _, _ = stats.linregress(time, pulse)

predicted_pulse = intercept + slope * time

plt.figure(figsize=(10, 6))
sns.violinplot(data=exercise, x='diet', y='pulse', hue='kind', split=True, inner='quart', palette='muted')

sorted_time = np.sort(time)
predicted_pulse_sorted = intercept + slope * sorted_time

plt.plot(sorted_time, predicted_pulse_sorted, color='red', label=f'Linear Fit: y = {intercept:.2f} + {slope:.2f}x')

plt.xlabel('Diet Type')
plt.ylabel('Pulse')
plt.title('Pulse Comparison by Diet and Exercise Kind with Linear Fit')

plt.legend()


plt.show()



