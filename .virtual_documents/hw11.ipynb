





# Will Sperling





def keplers_third(a):
    period = a**(3/2)
    return period





keplers_third(0.5)


keplers_third(1.0)


keplers_third(1.5)





import numpy as np





#Just once per session/usage. Once you call it once the package is imported and you don't need to do anything else to use it except call np.blank





def keplers_with_numpy(a):
    period = np.power(a, 3/2)
    return period





import time





start_time1 = time.time()
keplers_third(5)
end_time1 = time.time()
normal_time = end_time1 - start_time1

start_time2 = time.time()
keplers_with_numpy(5)
end_time2 = time.time()
numpy_time = end_time2 - start_time2

print(numpy_time > normal_time)





# The function with numpy is faster. This is because numpy is a package made for computation and computation at high speeds. It tells us that it is more efficient to use numpy functions rather than normal arithemtic in python.





semimajor_list = np.random.rand(1000)
print(semimajor_list)





normal_times = []
for num in semimajor_list:
    start_time1 = time.time()
    keplers_third(num)
    end_time1 = time.time()
    normal_times.append(end_time1 - start_time1)

numpy_times = []
for num in semimajor_list:
    start_time2 = time.time()
    keplers_with_numpy(num)
    end_time2 = time.time()
    numpy_times.append(end_time2 - start_time2)

average_normal_time = sum(normal_times) / len(normal_times)
average_numpy_time = sum(numpy_times) / len(numpy_times)
print(average_numpy_time > average_normal_time)





#The numpy function is faster. It is faster because it is better at handling large datasets as that's what it's made for.








radii = [1.2, 0.8, 1.5, 2.0, 1.0, 0.6]
temperatures = [300, 400, 350, 280, 500, 450]
def colder_temps():
    for i in range(len(temperatures)):
        if temperatures[i] < 350:
            print(radii[i])

colder_temps()





sliced = radii[:3]
sliced


planet_data = {}

def Dictionary():
    for i in range(len(radii)):
        planet_data[radii[i]] = temperatures[i]
    return planet_data

Dictionary()






planet_data_name = {}
planet_names = ['B', 'R', 'A', 'I', 'N', 'Y']

def Dictionary_name():
    for i in range(len(radii)):
        planet_data_name[planet_names[i]] = {
        'radius': radii[i],
        'temperature': temperatures[i]}
    return planet_data_name

Dictionary_name()





filtered_planets = {}

for planet in planet_data_name:
    if planet_data_name[planet]['radius'] >= 1.0 and planet_data_name[planet]['radius'] <= 2.0:
        filtered_planets[planet] = planet_data_name[planet]

print(filtered_planets)





semimajor_array = np.array(semimajor_list)





np.mean(semimajor_array)


np.median(semimajor_array)


np.min(semimajor_array)


np.max(semimajor_array)





np.std(semimajor_array)
#finds the standard deviation of the array





data_array = planet_data = np.array([radii, temperatures])
data_array





def print_third():
    for i in range(len(data_array[1])):
        if i == 2:
            print(data_array[1, i])

print_third()





data_array[1, 2]








import matplotlib.pyplot as plt
semi_major_axes = [0.5, 1.0, 2.0, 1.5, 1.2, 0.8]
orbital_periods = keplers_with_numpy(semi_major_axes)

plt.scatter(semi_major_axes, orbital_periods, label="Orbital Periods", color='blue')
plt.title("Orbital Periods of Exoplanets")
plt.xlabel("Semi-Major Axes (in AU)")
plt.ylabel("Orbital Periods (in seconds)")
plt.title("Orbital Periods of Exoplanets")
plt.legend()





plt.bar(radii, temperatures, label="Equilibrium Temperature", color='skyblue')
plt.title("Equilibrium Temperatures vs. Radii")
plt.xlabel("Radii")
plt.ylabel("Equilibrium Temperatures")
plt.legend()
plt.show()





fig, ax = plt.subplots(1, 2, figsize=(10, 4))

ax[0].scatter(semi_major_axes, orbital_periods, label="Orbital Periods", color='blue')
ax[0].set_title("Orbital Periods of Exoplanets")
ax[0].set_xlabel("Semi-Major Axes (AU)")
ax[0].set_ylabel("Orbital Periods (seconds)")
ax[0].legend()

ax[1].bar(radii, temperatures, label="Equilibrium Temperatures", color='skyblue')
ax[1].set_title("Equilibrium Temperatures vs. Radii")
ax[1].set_xlabel("Radii")
ax[1].set_ylabel("Equilibrium Temperatures")
ax[1].legend()

plt.tight_layout()

plt.show()





import kepler



