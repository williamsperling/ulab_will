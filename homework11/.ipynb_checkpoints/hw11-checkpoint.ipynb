{
 "cells": [
  {
   "cell_type": "markdown",
   "id": "43ccf68c-d4b2-49e2-9d8e-ed084a253497",
   "metadata": {},
   "source": [
    "# HW 11 - Fall Semester Review\n",
    "ULAB - Physics and Astronomy Division \\\n",
    "Due **Sunday, February 2nd, 2025 at 11:59pm** on Gradescope\n",
    "\n",
    "To prepare for next week’s homework, where we’ll explore exoplanets using **pandas**, this assignment will review fundamental Python concepts within the same theme. "
   ]
  },
  {
   "cell_type": "markdown",
   "id": "8bcba317-e05a-4e81-8117-c301b5bf7d15",
   "metadata": {},
   "source": [
    "## 0 Academic Integrity\n",
    "Please type the following message in the cell below as a comment. Sign with your name.\n",
    "\n",
    "------\n",
    "**I certify that I did not use AI tools, such as ChatGPT, to generate or write code for this assignment. All work submitted is my own and reflects my understanding of the material.**\n",
    "\n",
    "------"
   ]
  },
  {
   "cell_type": "code",
   "execution_count": 1,
   "id": "1194054d-877b-40a6-8b37-d6f6f0567d29",
   "metadata": {},
   "outputs": [],
   "source": [
    "# Will Sperling"
   ]
  },
  {
   "cell_type": "markdown",
   "id": "2c02945c-b6aa-4d3a-b0e8-670a12b22284",
   "metadata": {},
   "source": [
    "## 1 Functions\n",
    "**Orbital Periods and Kepler's Third Law** \\\n",
    "Kepler's Third Law states that the square of the orbital period $T$ (in years) of a planet is proportional to the cube of the semi-major axis $a$ (in astronomical units, AU):\n",
    "\n",
    "$$\n",
    "T^2 = a^3\n",
    "$$\n",
    "\n",
    "Write a **function** that calculates the orbital period $T$ given the semi-major axis $a$. (So, you can assume that $T = \\sqrt{a^3}$.)"
   ]
  },
  {
   "cell_type": "code",
   "execution_count": 49,
   "id": "5e44b709-80e6-4243-aa0b-f2d1a3c2cbf3",
   "metadata": {},
   "outputs": [],
   "source": [
    "def keplers_third(a):\n",
    "    period = a**(3/2)\n",
    "    return period"
   ]
  },
  {
   "cell_type": "markdown",
   "id": "69109c9c-2e52-4e5a-a6b7-99437ac968f4",
   "metadata": {},
   "source": [
    "Call your function with the following values: \n",
    "* `planet_a` $ = 0.5\\,\\text{AU}$\n",
    "* `planet_b` $ = 1.0\\,\\text{AU}$\n",
    "* `planet_c` $ = 1.5\\,\\text{AU}$"
   ]
  },
  {
   "cell_type": "code",
   "execution_count": 52,
   "id": "a1e51eb3-81a7-4c4b-a3f0-81ceabb5e0fa",
   "metadata": {},
   "outputs": [
    {
     "data": {
      "text/plain": [
       "0.3535533905932738"
      ]
     },
     "execution_count": 52,
     "metadata": {},
     "output_type": "execute_result"
    }
   ],
   "source": [
    "keplers_third(0.5)"
   ]
  },
  {
   "cell_type": "code",
   "execution_count": 54,
   "id": "b89ae4ad-7a1f-45d0-88fe-c78bd554477c",
   "metadata": {},
   "outputs": [
    {
     "data": {
      "text/plain": [
       "1.0"
      ]
     },
     "execution_count": 54,
     "metadata": {},
     "output_type": "execute_result"
    }
   ],
   "source": [
    "keplers_third(1.0)"
   ]
  },
  {
   "cell_type": "code",
   "execution_count": 56,
   "id": "96c006de-bd4f-476e-9139-38248a900b99",
   "metadata": {},
   "outputs": [
    {
     "data": {
      "text/plain": [
       "1.8371173070873836"
      ]
     },
     "execution_count": 56,
     "metadata": {},
     "output_type": "execute_result"
    }
   ],
   "source": [
    "keplers_third(1.5)"
   ]
  },
  {
   "cell_type": "markdown",
   "id": "45135f7c-eb19-43ff-8f02-c7a16d3079b6",
   "metadata": {},
   "source": [
    "Import `numpy` in the cell below."
   ]
  },
  {
   "cell_type": "code",
   "execution_count": 59,
   "id": "8f71cb90-dc81-482c-b166-787e7a6c4f32",
   "metadata": {},
   "outputs": [],
   "source": [
    "import numpy as np"
   ]
  },
  {
   "cell_type": "markdown",
   "id": "889fafc4-560b-4483-853e-dde03af740e9",
   "metadata": {},
   "source": [
    "How many times do you need to call numpy in a jupyter notebook? Why?"
   ]
  },
  {
   "cell_type": "code",
   "execution_count": 62,
   "id": "30806788-87ec-4486-81df-79ca3c0f0fda",
   "metadata": {},
   "outputs": [],
   "source": [
    "#Just once per session/usage. Once you call it once the package is imported and you don't need to do anything else to use it except call np.blank"
   ]
  },
  {
   "cell_type": "markdown",
   "id": "eb4dc813-39d9-4320-8124-3336c7ce6066",
   "metadata": {},
   "source": [
    "Rewrite your **function** from above with a `numpy` function. "
   ]
  },
  {
   "cell_type": "code",
   "execution_count": 65,
   "id": "6826dbc5-e0d0-4a0d-9e18-bb59d8f7bf9f",
   "metadata": {},
   "outputs": [],
   "source": [
    "def keplers_with_numpy(a):\n",
    "    period = np.power(a, 3/2)\n",
    "    return period"
   ]
  },
  {
   "cell_type": "markdown",
   "id": "0f4b4747-9600-4e1a-a4d3-f792a77fc6d5",
   "metadata": {},
   "source": [
    "Import the `time` package in the cell below."
   ]
  },
  {
   "cell_type": "code",
   "execution_count": 68,
   "id": "5df91bc1-f123-47cf-9af9-cf52ea567e88",
   "metadata": {},
   "outputs": [],
   "source": [
    "import time"
   ]
  },
  {
   "cell_type": "markdown",
   "id": "7cdb4331-238b-4918-a7b8-3c7b6cb1b9a4",
   "metadata": {},
   "source": [
    "Call both of your functions in the cell below with ($a$ = 5). Time how long it takes each of your functions to run. **DO NOT REWRITE THEM!** "
   ]
  },
  {
   "cell_type": "code",
   "execution_count": 75,
   "id": "e6a99ef3-5aad-4916-b877-5651630e35b3",
   "metadata": {},
   "outputs": [
    {
     "name": "stdout",
     "output_type": "stream",
     "text": [
      "True\n"
     ]
    }
   ],
   "source": [
    "start_time1 = time.time()\n",
    "keplers_third(5)\n",
    "end_time1 = time.time()\n",
    "normal_time = end_time1 - start_time1\n",
    "\n",
    "start_time2 = time.time()\n",
    "keplers_with_numpy(5)\n",
    "end_time2 = time.time()\n",
    "numpy_time = end_time2 - start_time2\n",
    "\n",
    "print(numpy_time > normal_time)"
   ]
  },
  {
   "cell_type": "markdown",
   "id": "e2736b3a-533c-4fce-8258-8a7174348a5d",
   "metadata": {},
   "source": [
    "Which function is faster? Why is it faster? What does that tell you about numpy functions?"
   ]
  },
  {
   "cell_type": "code",
   "execution_count": 77,
   "id": "5ba971d4-a2db-4ec2-8992-12727287c4d1",
   "metadata": {},
   "outputs": [],
   "source": [
    "# The function with numpy is faster. This is because numpy is a package made for computation and computation at high speeds. It tells us that it is more efficient to use numpy functions rather than normal arithemtic in python."
   ]
  },
  {
   "cell_type": "markdown",
   "id": "6e3c5912-1c81-4e95-b7a7-4b46e6cb45e5",
   "metadata": {},
   "source": [
    "Define a **list** in the cell below that contains a least 1000 semi-major axis values."
   ]
  },
  {
   "cell_type": "code",
   "execution_count": 99,
   "id": "7361896e-e2b3-47af-b386-7e051c2b1917",
   "metadata": {},
   "outputs": [
    {
     "name": "stdout",
     "output_type": "stream",
     "text": [
      "[8.53327864e-01 9.78669214e-02 9.45676353e-01 6.81853851e-01\n",
      " 3.35961059e-01 4.87558779e-01 9.89020721e-01 2.79002700e-01\n",
      " 8.08432769e-01 8.96510977e-01 9.82674270e-01 1.19688262e-01\n",
      " 8.94538225e-01 8.89391304e-01 1.19555170e-01 9.54660000e-01\n",
      " 8.05031827e-01 1.72854338e-01 2.23238538e-01 5.80819807e-02\n",
      " 2.99428232e-01 9.34090737e-01 9.11886834e-01 6.08508274e-01\n",
      " 3.68644277e-01 4.50490851e-01 3.86639364e-01 6.07628846e-01\n",
      " 1.40109523e-01 3.61208692e-01 9.84836844e-01 3.77281994e-01\n",
      " 5.99948165e-01 4.24719707e-01 1.75349413e-01 2.52606617e-01\n",
      " 5.05251019e-01 3.50670227e-03 5.44667674e-02 9.27354397e-01\n",
      " 3.44198658e-01 2.48867022e-01 6.93413394e-01 6.87716219e-01\n",
      " 1.05131919e-01 8.35026383e-01 4.18040656e-01 8.82044370e-02\n",
      " 4.20674107e-01 3.74080812e-01 1.52611585e-01 3.04506076e-01\n",
      " 2.16782742e-01 3.28896403e-01 5.52037172e-01 2.51688262e-01\n",
      " 3.11819155e-01 8.60160834e-01 7.88169105e-01 8.52974979e-01\n",
      " 2.97252027e-01 5.94459813e-01 5.07076603e-01 5.05452265e-01\n",
      " 1.80955583e-01 4.18136408e-01 1.38985695e-01 8.16433418e-01\n",
      " 3.15211154e-01 8.19335294e-01 4.66120371e-01 8.37754735e-01\n",
      " 6.96412336e-01 9.64792748e-01 7.03566579e-01 6.82494205e-02\n",
      " 7.02823971e-01 3.47448997e-01 2.82718236e-01 1.66726763e-01\n",
      " 6.98589465e-01 5.47334903e-03 2.81357513e-01 8.66729164e-01\n",
      " 9.95986444e-01 6.00172406e-01 3.32643144e-01 5.21247592e-01\n",
      " 4.61902744e-01 9.32599912e-01 8.07900118e-01 6.75006258e-01\n",
      " 8.83491895e-01 9.93877251e-01 9.21900388e-01 2.76595139e-01\n",
      " 6.75439689e-01 3.82585553e-01 1.15847303e-01 4.68312097e-01\n",
      " 8.58364612e-01 6.86872513e-01 7.22719760e-02 7.97177973e-01\n",
      " 3.45469905e-01 2.54351233e-01 6.11965783e-01 6.18676447e-01\n",
      " 7.22855355e-01 7.55779994e-02 7.49722647e-01 5.23545274e-01\n",
      " 8.57675612e-01 4.23280189e-01 6.73798272e-01 2.16364756e-01\n",
      " 5.46581205e-01 7.51207836e-01 1.84071146e-01 1.65469247e-01\n",
      " 8.38429793e-01 1.45580498e-01 4.88689158e-01 3.71520557e-02\n",
      " 6.05103821e-01 6.92670623e-01 6.06684773e-01 6.48567559e-01\n",
      " 2.19583178e-01 1.99686793e-01 8.97784042e-01 4.74375387e-01\n",
      " 2.42398788e-01 1.82040322e-01 4.30798885e-01 2.57251304e-01\n",
      " 8.58202089e-02 3.79700760e-01 6.49206848e-01 4.85945366e-01\n",
      " 7.75288872e-01 9.37074142e-01 4.33776959e-01 1.42322570e-01\n",
      " 6.45613893e-01 2.28500732e-01 5.48110807e-01 8.41260883e-01\n",
      " 3.25579859e-03 2.00934180e-01 4.25496548e-01 4.70320914e-01\n",
      " 2.33414032e-02 5.45984051e-01 5.71637343e-01 9.45088655e-01\n",
      " 7.15090888e-01 3.24238888e-01 9.14353868e-01 7.78352189e-01\n",
      " 5.42796783e-02 1.23851891e-01 2.73792050e-01 3.39291394e-01\n",
      " 9.18786330e-01 4.46698032e-01 5.08188325e-01 8.61670518e-01\n",
      " 9.72749478e-01 6.84394158e-02 1.16965885e-01 5.89922232e-01\n",
      " 5.10627247e-01 4.14925167e-01 9.65388487e-01 3.37729414e-01\n",
      " 5.66991160e-01 2.81943752e-01 8.55846028e-01 6.23529743e-01\n",
      " 3.49025486e-01 1.26812334e-01 8.33170357e-01 4.88615018e-01\n",
      " 1.36239571e-01 4.03318663e-01 9.82180733e-01 1.43527377e-01\n",
      " 2.77033111e-01 9.02849172e-01 2.92443186e-01 8.13127084e-01\n",
      " 8.19798208e-01 8.83030503e-01 4.28303028e-01 5.24619986e-01\n",
      " 2.37006513e-01 2.41501576e-01 6.47509718e-01 5.51038871e-01\n",
      " 8.50364462e-01 9.79170911e-01 7.30483012e-01 2.13626154e-03\n",
      " 5.50781217e-01 5.59994012e-01 4.32751010e-01 5.09924258e-01\n",
      " 9.27051821e-01 2.36493473e-01 3.73127315e-01 5.47064785e-01\n",
      " 9.08526985e-01 8.36659483e-02 4.60211308e-01 3.29345847e-01\n",
      " 8.86388052e-02 1.66274336e-01 8.99549970e-01 6.23743514e-01\n",
      " 7.75615280e-01 2.08779907e-01 2.49327434e-01 2.31092468e-01\n",
      " 7.41881618e-01 8.89347429e-01 3.51442983e-01 1.38810396e-01\n",
      " 2.46694144e-01 8.47160435e-01 8.27262418e-01 2.64850639e-01\n",
      " 1.88221681e-01 4.89475551e-01 4.01079257e-01 9.59838620e-01\n",
      " 8.68199731e-01 7.11307499e-01 2.37252523e-01 3.12698854e-01\n",
      " 8.19452791e-01 9.52256373e-02 7.18666605e-02 3.23373181e-02\n",
      " 5.64425219e-01 5.48244638e-01 3.77091352e-02 3.31401156e-01\n",
      " 9.16799834e-01 7.48438411e-01 3.19481595e-02 4.15279345e-01\n",
      " 3.19438214e-01 4.49466203e-01 3.66466390e-01 3.69488948e-01\n",
      " 4.46601042e-01 9.78462836e-01 1.43828913e-01 5.60634913e-02\n",
      " 4.91870078e-01 3.71366991e-01 7.56358234e-01 1.40747939e-01\n",
      " 5.62009892e-02 9.22245069e-01 2.07621982e-01 3.23224549e-01\n",
      " 1.48434622e-01 1.75442709e-01 2.08799364e-01 7.82565146e-01\n",
      " 9.44806838e-01 7.94955577e-02 9.12687521e-01 7.00531441e-01\n",
      " 4.20523878e-01 8.33271681e-01 4.86902877e-01 6.79226535e-01\n",
      " 7.27071284e-02 6.42235542e-01 5.59089170e-01 1.65106697e-01\n",
      " 2.64166243e-01 4.97990464e-01 2.61227099e-01 4.92970238e-01\n",
      " 7.99413092e-01 3.47824475e-01 8.08239305e-02 5.39830083e-01\n",
      " 3.93497503e-01 7.61932512e-01 8.63642921e-01 1.36947580e-01\n",
      " 3.43835688e-01 1.62085802e-01 6.62191005e-01 1.90150202e-01\n",
      " 8.80972426e-01 2.75338053e-01 3.95464928e-01 6.50060693e-02\n",
      " 4.98850150e-01 8.00052595e-01 7.42082459e-01 2.69671784e-02\n",
      " 6.40379388e-02 6.19177808e-01 5.04031514e-01 3.86635061e-02\n",
      " 2.24511249e-01 6.30594564e-01 2.38233869e-01 6.09464574e-01\n",
      " 1.69084991e-01 9.79179876e-01 8.72232140e-01 3.69426278e-01\n",
      " 2.29376725e-01 8.30087826e-01 2.28521460e-01 4.02651982e-01\n",
      " 1.93378261e-01 8.03731302e-01 1.63894108e-01 6.56644305e-01\n",
      " 9.76484050e-01 6.97182373e-01 5.56657131e-01 3.58644206e-01\n",
      " 3.92675915e-01 9.65180810e-01 6.90663247e-02 4.04339699e-01\n",
      " 3.81222875e-01 8.33919185e-01 1.71029370e-01 9.51473007e-01\n",
      " 4.34712534e-01 8.60591044e-01 7.87428121e-01 1.03867649e-01\n",
      " 6.56649957e-02 9.69679575e-01 3.98066680e-02 4.82535305e-01\n",
      " 3.90451782e-01 8.87327452e-02 4.73897008e-01 4.11389672e-01\n",
      " 9.20805108e-01 7.59817043e-01 3.49658854e-01 7.85311847e-01\n",
      " 5.33949470e-01 1.87362466e-01 2.96870229e-01 2.78496480e-01\n",
      " 8.46139453e-01 2.57528934e-01 1.75531122e-01 9.33323630e-01\n",
      " 1.39504836e-01 3.89404472e-01 4.11263513e-01 7.57395023e-01\n",
      " 9.86134260e-01 3.31193734e-01 6.55461324e-01 8.60554267e-01\n",
      " 4.07846104e-01 1.57243197e-01 2.95033065e-01 2.91166393e-02\n",
      " 2.46761410e-01 4.31970461e-01 9.02470707e-01 3.13871545e-01\n",
      " 7.20215104e-01 8.62726362e-01 8.15986961e-01 8.08509593e-01\n",
      " 9.38413924e-01 2.67931900e-01 9.74354366e-01 8.11398723e-01\n",
      " 1.58471269e-01 3.41864052e-01 3.89366227e-01 8.35970728e-01\n",
      " 7.70577198e-01 9.52569925e-01 9.92519398e-01 7.75159929e-01\n",
      " 4.12131810e-01 7.95199917e-01 3.49838076e-01 7.24368094e-01\n",
      " 8.97218958e-01 2.85392820e-01 2.07496431e-01 4.60279013e-01\n",
      " 6.27786152e-01 5.02898212e-01 8.28710188e-01 6.00062413e-01\n",
      " 4.22151562e-01 9.79067447e-02 2.94634036e-01 7.26933224e-01\n",
      " 3.55627825e-01 8.08605135e-01 4.09022523e-03 7.55335285e-01\n",
      " 6.46285711e-02 9.51466556e-01 3.30604373e-01 2.12108188e-01\n",
      " 6.48836264e-01 7.24662652e-01 5.49568706e-01 7.78804877e-01\n",
      " 8.31746970e-01 1.14057664e-01 7.53993456e-01 7.77711414e-01\n",
      " 2.43197936e-01 1.65526288e-01 4.13403777e-01 8.83120613e-01\n",
      " 1.68648169e-01 3.48758748e-01 5.43261973e-01 6.39428743e-01\n",
      " 1.58099455e-01 4.30327418e-01 7.12421018e-01 9.02926071e-01\n",
      " 8.42398810e-02 1.76665652e-01 4.62555973e-01 1.97708815e-01\n",
      " 1.86223131e-01 9.89193575e-01 4.83460133e-01 6.28411030e-01\n",
      " 8.78631736e-01 3.04908919e-01 9.83056641e-01 3.19342721e-01\n",
      " 9.39416905e-01 6.73310466e-02 1.56628601e-01 9.44315752e-02\n",
      " 7.45204246e-01 9.03326909e-01 2.12056274e-01 8.94727479e-01\n",
      " 9.96929910e-01 3.33862728e-01 6.34414125e-01 5.92596567e-01\n",
      " 9.99848292e-02 6.31220759e-01 2.27692415e-01 3.65423961e-01\n",
      " 6.91204976e-01 3.77705435e-01 7.50513686e-01 1.97565622e-01\n",
      " 4.72106344e-01 9.30021349e-01 9.59168464e-01 8.94754934e-01\n",
      " 8.70250578e-01 6.88071894e-02 4.13053084e-01 1.03788556e-01\n",
      " 4.06315146e-01 8.88195668e-01 8.04832549e-01 3.79488313e-02\n",
      " 4.04126379e-01 7.75302018e-02 7.12028933e-01 5.82883890e-01\n",
      " 8.72856286e-01 8.65041598e-01 6.05874549e-01 9.82695750e-01\n",
      " 4.17357810e-01 7.73195539e-01 3.25582741e-01 7.40533885e-01\n",
      " 9.55776790e-01 6.69797158e-01 1.51936421e-01 3.94046133e-01\n",
      " 9.08926049e-01 5.89765826e-01 6.70943485e-01 9.16367600e-01\n",
      " 1.59570376e-01 4.04632459e-01 8.02831798e-01 8.36761009e-01\n",
      " 4.78716846e-01 1.68691294e-01 3.36171814e-01 2.75505369e-01\n",
      " 2.54844354e-01 4.50627930e-01 3.74703349e-01 3.53139281e-01\n",
      " 2.62212856e-01 3.95461522e-01 7.95213447e-01 6.36130317e-01\n",
      " 2.33980578e-01 3.39183784e-01 1.86702938e-02 7.20236116e-01\n",
      " 8.10642108e-02 4.99565142e-01 6.53637945e-01 3.98342055e-01\n",
      " 7.29668600e-02 1.09343626e-01 6.83913461e-01 8.85628787e-01\n",
      " 2.84881544e-01 1.60392039e-01 1.61250545e-01 7.46226143e-01\n",
      " 3.03107551e-01 8.03619267e-01 5.67760458e-01 9.11775984e-01\n",
      " 2.13908605e-01 9.15270733e-01 4.47785581e-01 3.75054014e-01\n",
      " 4.36416036e-01 1.99189170e-02 9.93142664e-01 7.78370303e-01\n",
      " 5.57734987e-01 4.15780745e-01 3.64464484e-01 7.69949142e-01\n",
      " 4.70389367e-01 1.87749140e-01 2.76194179e-01 3.66301396e-01\n",
      " 2.95561193e-01 1.52415657e-01 6.09480930e-01 2.91159154e-01\n",
      " 2.30381784e-01 2.48267914e-01 7.99434001e-01 8.59380538e-01\n",
      " 6.03559660e-01 9.85680676e-01 1.97380257e-01 9.19884106e-01\n",
      " 3.39626993e-01 6.76744205e-01 8.53461837e-01 4.91789927e-02\n",
      " 3.00307355e-01 8.62621736e-01 6.85904156e-01 8.13198971e-01\n",
      " 8.51342960e-01 4.60709078e-01 2.26317970e-01 8.72697439e-01\n",
      " 7.67389812e-01 7.89324936e-01 4.33228415e-02 1.17541049e-01\n",
      " 5.12443939e-02 9.16988482e-01 8.40877046e-01 5.60303081e-01\n",
      " 6.81455452e-01 2.25676722e-01 6.10942143e-01 5.56278186e-03\n",
      " 5.51220603e-01 5.23028828e-01 4.80650533e-01 4.82147604e-01\n",
      " 7.62420980e-01 3.15242205e-01 7.63784436e-01 9.53995423e-01\n",
      " 6.54107338e-01 7.38760386e-01 3.21677874e-01 9.62803412e-01\n",
      " 8.67742213e-01 4.06051529e-01 1.64435450e-01 4.20369670e-01\n",
      " 8.54638565e-01 9.88959553e-01 7.84675256e-01 7.89091143e-01\n",
      " 5.07047856e-02 4.13997166e-01 3.11043153e-01 1.31046562e-01\n",
      " 6.31289572e-01 8.33123513e-01 2.10834160e-01 4.23318797e-01\n",
      " 4.57168031e-01 8.02981499e-02 4.17875958e-01 8.32507531e-01\n",
      " 8.60612261e-01 1.45249282e-01 8.51663320e-01 6.97164272e-01\n",
      " 8.57747868e-01 4.71477296e-01 6.72466537e-01 2.28613850e-01\n",
      " 5.88554631e-01 7.42362685e-01 2.33230349e-01 7.03399233e-01\n",
      " 9.85920824e-01 3.10560859e-01 8.67906586e-01 1.70491823e-01\n",
      " 4.41934343e-01 7.56776942e-01 2.20299116e-01 4.85197237e-01\n",
      " 1.07338541e-01 3.77302516e-01 7.01252634e-01 9.37178747e-01\n",
      " 2.75398755e-01 3.01862474e-01 7.86181370e-01 9.08246211e-01\n",
      " 1.65461855e-01 4.27448329e-01 2.30954151e-01 5.18402827e-02\n",
      " 4.50647669e-01 8.01793907e-01 3.31960722e-01 5.42014694e-01\n",
      " 3.99283689e-01 3.75552842e-01 4.38991467e-01 1.57687259e-01\n",
      " 7.34770183e-01 1.41082397e-01 5.86352720e-01 8.79294238e-01\n",
      " 5.45764076e-02 9.41883164e-01 6.40991782e-01 8.10880954e-01\n",
      " 8.01677562e-01 5.05410594e-01 1.20881743e-02 4.61276759e-01\n",
      " 2.56147749e-01 1.65583515e-01 3.47913733e-01 4.45085324e-01\n",
      " 8.38401435e-04 4.45542392e-01 3.53815719e-02 1.47273443e-01\n",
      " 9.05804309e-01 4.02346080e-01 4.55206348e-01 3.34933574e-01\n",
      " 3.72924631e-01 6.53226409e-02 9.19666912e-01 9.46324665e-01\n",
      " 3.59404487e-01 4.56566649e-03 7.51225761e-01 2.78826389e-01\n",
      " 6.68798100e-01 5.82012592e-01 8.61518414e-01 6.09616604e-01\n",
      " 6.85031266e-01 2.40566031e-01 1.94109782e-01 2.09123998e-01\n",
      " 4.41351871e-01 2.64401688e-01 6.82940596e-01 3.89850236e-01\n",
      " 8.71355162e-01 5.76436333e-01 3.87352735e-01 6.50595258e-03\n",
      " 3.23901482e-01 1.81662029e-02 4.38034677e-01 3.54638545e-01\n",
      " 8.40633190e-01 2.73804097e-01 8.58844857e-01 9.81120316e-01\n",
      " 4.05815245e-01 2.46683453e-01 6.93297156e-01 5.01216113e-01\n",
      " 4.98223285e-01 4.24763413e-01 3.98012205e-03 8.30030393e-01\n",
      " 8.88000083e-01 8.85068386e-01 5.73828533e-01 6.12532775e-01\n",
      " 2.26170142e-03 2.00839845e-02 8.23865070e-02 1.86166538e-01\n",
      " 2.69711331e-01 8.39747069e-01 9.19922335e-01 5.62213400e-01\n",
      " 3.07183294e-01 1.19099986e-01 8.89307822e-01 4.73413492e-01\n",
      " 4.28664255e-02 4.42818354e-01 9.82045958e-01 6.12708378e-02\n",
      " 6.77542180e-01 6.39213889e-01 2.23082439e-01 3.29077926e-02\n",
      " 5.70831626e-01 2.60291677e-01 8.59156151e-01 6.12058733e-01\n",
      " 3.44913228e-01 1.74346532e-01 3.94466099e-01 9.90891657e-01\n",
      " 5.69562147e-01 7.63875908e-01 9.27597451e-01 3.86720899e-01\n",
      " 6.16736383e-01 9.15514392e-01 1.81500524e-01 9.58892598e-01\n",
      " 7.78388814e-01 4.02965572e-02 5.58102194e-01 5.20677233e-01\n",
      " 5.81723465e-01 8.06399452e-03 7.60169149e-01 5.50400714e-01\n",
      " 7.17907675e-01 1.45381805e-01 4.35307161e-01 6.85510336e-01\n",
      " 8.32819054e-01 2.15494533e-01 4.65835674e-02 2.71942230e-02\n",
      " 3.89390275e-01 6.75395606e-01 1.24563117e-01 5.49005485e-01\n",
      " 7.32752178e-01 7.79641476e-01 6.61156679e-01 8.92313793e-01\n",
      " 1.06279939e-01 4.71447089e-01 9.82193058e-01 6.69115922e-01\n",
      " 1.15254601e-01 6.24142369e-01 7.46468855e-01 7.79622650e-01\n",
      " 1.47605323e-01 1.43176813e-01 7.35251807e-01 8.38878372e-01\n",
      " 6.45081302e-01 7.09869192e-01 3.52509617e-01 9.77029223e-01\n",
      " 2.41765991e-02 5.03345601e-02 6.72909973e-01 6.60507498e-01\n",
      " 9.52062058e-01 7.20493645e-01 4.28500823e-01 7.24533397e-01\n",
      " 6.16997204e-01 1.52535283e-01 1.07739757e-02 3.26598697e-01\n",
      " 8.55181519e-01 3.76070278e-01 9.99626984e-01 8.89295518e-01\n",
      " 6.45583606e-01 8.52161410e-01 5.33711238e-01 6.68048610e-01\n",
      " 5.80167122e-01 6.97817015e-01 2.56294009e-01 1.95368147e-01\n",
      " 3.89786174e-01 5.02842785e-02 7.58422084e-01 2.64815005e-01\n",
      " 1.34134217e-01 4.64093415e-01 5.22707835e-01 8.87254500e-01\n",
      " 7.81837218e-01 2.82480712e-01 2.75436205e-01 1.44908678e-02\n",
      " 1.82198892e-01 8.20551842e-01 4.64538123e-03 4.05247194e-01\n",
      " 4.68135569e-01 2.89427582e-01 7.26412502e-01 2.75268335e-01\n",
      " 2.71192708e-01 4.93682482e-01 5.52384804e-01 6.29258867e-02\n",
      " 8.33943653e-01 9.65565321e-01 9.09233258e-02 5.64014804e-01\n",
      " 9.19683831e-01 1.88931673e-01 1.27300384e-01 3.74608399e-01\n",
      " 6.47859882e-01 8.12877716e-01 2.71885962e-01 6.17003418e-01\n",
      " 2.45642771e-01 8.00405591e-02 2.29455477e-01 7.01033909e-01\n",
      " 6.36247864e-01 7.08034192e-01 3.16146372e-01 2.78915121e-01\n",
      " 2.42150872e-01 4.70782315e-01 9.73804378e-01 9.38419378e-01\n",
      " 9.99917815e-01 8.54162151e-01 8.37182018e-01 7.85926974e-01\n",
      " 1.93807560e-01 2.06903040e-01 6.47051322e-01 3.13418794e-01\n",
      " 1.05494458e-01 8.06334514e-01 4.87917812e-02 8.02881156e-01\n",
      " 9.49411573e-01 6.70243702e-01 7.62034489e-01 8.79767878e-01\n",
      " 7.51395028e-01 1.39306844e-01 3.13400971e-01 2.84398137e-01\n",
      " 3.64126690e-01 8.56920314e-01 2.55006292e-01 7.52825869e-01\n",
      " 5.39328864e-01 2.31067214e-02 1.57510538e-01 4.13157937e-01\n",
      " 9.85590967e-01 9.44606900e-01 6.29113703e-01 4.21652230e-01\n",
      " 2.04260588e-01 5.83635959e-01 8.95961955e-01 7.15112623e-01\n",
      " 5.04297366e-02 5.94375267e-01 5.87687526e-01 2.60021863e-01\n",
      " 6.77353127e-01 9.72508637e-01 1.19805274e-01 9.30832190e-01\n",
      " 2.47079065e-01 3.70003325e-01 2.28056343e-01 4.91823215e-01\n",
      " 3.13135456e-01 4.62077884e-01 9.41590812e-01 8.43150762e-01\n",
      " 3.05450970e-01 8.04098366e-01 5.44379825e-01 3.36256400e-01\n",
      " 4.08527784e-01 2.74799302e-01 6.87359342e-01 2.86693249e-01\n",
      " 2.13282798e-01 9.12041812e-01 7.00075102e-01 7.96255331e-01\n",
      " 7.89705004e-01 1.94301136e-01 6.59526165e-01 7.16161905e-01\n",
      " 4.02122444e-01 8.50564114e-01 1.98206766e-01 9.27617960e-01\n",
      " 1.35714127e-01 5.98994374e-01 2.34007946e-01 6.98881732e-01\n",
      " 9.52306108e-01 3.19084532e-01 7.39144734e-01 5.71887483e-01\n",
      " 3.68516302e-01 5.48271620e-01 6.01040447e-01 2.05361791e-01\n",
      " 2.06858343e-01 7.80206750e-01 8.10409920e-02 3.05276115e-01\n",
      " 4.14656141e-01 8.06077350e-01 8.16346751e-01 9.08849572e-01\n",
      " 2.51404206e-01 8.06995439e-01 8.97071292e-01 3.48193032e-01\n",
      " 4.74935815e-01 2.52043561e-01 2.47591670e-01 4.39016061e-01\n",
      " 8.43725209e-01 7.01242215e-01 8.34754370e-02 7.12324504e-01\n",
      " 7.74445380e-02 8.18949211e-01 9.73121646e-01 7.71811309e-01\n",
      " 3.52584584e-02 6.16934611e-01 2.59476863e-01 2.18305095e-01\n",
      " 6.46503184e-01 7.18923818e-01 1.63696502e-01 5.01255907e-01\n",
      " 6.09546826e-01 2.05214126e-01 9.52218081e-01 5.31238294e-01]\n"
     ]
    }
   ],
   "source": [
    "semimajor_list = np.random.rand(1000)\n",
    "print(semimajor_list)"
   ]
  },
  {
   "cell_type": "markdown",
   "id": "912ecdc6-f5b7-4fb5-90ea-7c3486e80c1e",
   "metadata": {},
   "source": [
    "With a **for** loop. Time each of your functions again with this new list. "
   ]
  },
  {
   "cell_type": "code",
   "execution_count": 104,
   "id": "e70d8625-8d45-4cea-bba3-3cba89cb8c68",
   "metadata": {},
   "outputs": [
    {
     "name": "stdout",
     "output_type": "stream",
     "text": [
      "True\n"
     ]
    }
   ],
   "source": [
    "normal_times = []\n",
    "for num in semimajor_list:\n",
    "    start_time1 = time.time()\n",
    "    keplers_third(num)\n",
    "    end_time1 = time.time()\n",
    "    normal_times.append(end_time1 - start_time1)\n",
    "\n",
    "numpy_times = []\n",
    "for num in semimajor_list:\n",
    "    start_time2 = time.time()\n",
    "    keplers_with_numpy(num)\n",
    "    end_time2 = time.time()\n",
    "    numpy_times.append(end_time2 - start_time2)\n",
    "\n",
    "average_normal_time = sum(normal_times) / len(normal_times)\n",
    "average_numpy_time = sum(numpy_times) / len(numpy_times)\n",
    "print(average_numpy_time > average_normal_time)"
   ]
  },
  {
   "cell_type": "markdown",
   "id": "84c8be8c-d27e-43bb-b818-ba2e85a268db",
   "metadata": {},
   "source": [
    "Which function is faster? Why is it faster? What does that tell you about numpy functions?"
   ]
  },
  {
   "cell_type": "code",
   "execution_count": 106,
   "id": "9277953c-0aca-4f70-83b9-cd34627e85af",
   "metadata": {},
   "outputs": [],
   "source": [
    "#The numpy function is faster. It is faster because it is better at handling large datasets as that's what it's made for."
   ]
  },
  {
   "cell_type": "markdown",
   "id": "0d205e5d-23ac-47cd-98cc-a0a6c8b9d0ce",
   "metadata": {},
   "source": [
    "## 2 Indexing + Conditionals\n",
    "\n",
    "You are provided with a list of exoplanet radii (in Earth radii) and their equilibrium temperatures (in Kelvin):\n",
    "\n",
    "`radii = [1.2, 0.8, 1.5, 2.0, 1.0, 0.6]` \\\n",
    "`temperatures = [300, 400, 350, 280, 500, 450]`"
   ]
  },
  {
   "cell_type": "markdown",
   "id": "0901186a-b87c-4c6e-9d1e-d846d6b3f825",
   "metadata": {},
   "source": [
    "Write a loop to filter and print the radii of planets with temperatures below 350 K."
   ]
  },
  {
   "cell_type": "code",
   "execution_count": 110,
   "id": "f98b8f8e-1619-4dc6-b398-1f8e07a45d15",
   "metadata": {},
   "outputs": [
    {
     "name": "stdout",
     "output_type": "stream",
     "text": [
      "1.2\n",
      "2.0\n"
     ]
    }
   ],
   "source": [
    "radii = [1.2, 0.8, 1.5, 2.0, 1.0, 0.6]\n",
    "temperatures = [300, 400, 350, 280, 500, 450]\n",
    "def colder_temps():\n",
    "    for i in range(len(temperatures)):\n",
    "        if temperatures[i] < 350:\n",
    "            print(radii[i])\n",
    "\n",
    "colder_temps()"
   ]
  },
  {
   "cell_type": "markdown",
   "id": "4adddec6-c167-4f9d-ba33-863b1047e8c8",
   "metadata": {},
   "source": [
    "Use list slicing to extract and print the radii of the first three planets."
   ]
  },
  {
   "cell_type": "code",
   "execution_count": 118,
   "id": "3d834fe4-08d5-4955-8a84-5012749d21c4",
   "metadata": {},
   "outputs": [
    {
     "data": {
      "text/plain": [
       "[1.2, 0.8, 1.5]"
      ]
     },
     "execution_count": 118,
     "metadata": {},
     "output_type": "execute_result"
    }
   ],
   "source": [
    "sliced = radii[:3]\n",
    "sliced"
   ]
  },
  {
   "cell_type": "code",
   "execution_count": 120,
   "id": "8e53c64f-2b6a-407c-984f-c5812dbf0616",
   "metadata": {},
   "outputs": [
    {
     "data": {
      "text/plain": [
       "{1.2: 300, 0.8: 400, 1.5: 350, 2.0: 280, 1.0: 500, 0.6: 450}"
      ]
     },
     "execution_count": 120,
     "metadata": {},
     "output_type": "execute_result"
    }
   ],
   "source": [
    "planet_data = {}\n",
    "\n",
    "def Dictionary():\n",
    "    for i in range(len(radii)):\n",
    "        planet_data[radii[i]] = temperatures[i]\n",
    "    return planet_data\n",
    "\n",
    "Dictionary()\n"
   ]
  },
  {
   "cell_type": "markdown",
   "id": "45b492ad-b5c3-4eb7-9a2e-f33f544ea2c6",
   "metadata": {},
   "source": [
    "Give each of the planets in your dictionary a name. "
   ]
  },
  {
   "cell_type": "code",
   "execution_count": 132,
   "id": "6cb88478-2265-4c69-b31d-7e7da0a08328",
   "metadata": {},
   "outputs": [
    {
     "data": {
      "text/plain": [
       "{'B': {'radius': 1.2, 'temperature': 300},\n",
       " 'R': {'radius': 0.8, 'temperature': 400},\n",
       " 'A': {'radius': 1.5, 'temperature': 350},\n",
       " 'I': {'radius': 2.0, 'temperature': 280},\n",
       " 'N': {'radius': 1.0, 'temperature': 500},\n",
       " 'Y': {'radius': 0.6, 'temperature': 450}}"
      ]
     },
     "execution_count": 132,
     "metadata": {},
     "output_type": "execute_result"
    }
   ],
   "source": [
    "planet_data_name = {}\n",
    "planet_names = ['B', 'R', 'A', 'I', 'N', 'Y']\n",
    "\n",
    "def Dictionary_name():\n",
    "    for i in range(len(radii)):\n",
    "        planet_data_name[planet_names[i]] = {\n",
    "        'radius': radii[i],\n",
    "        'temperature': temperatures[i]}\n",
    "    return planet_data_name\n",
    "\n",
    "Dictionary_name()"
   ]
  },
  {
   "cell_type": "markdown",
   "id": "91ab99aa-cdbf-42ac-87d5-9af85a9596c2",
   "metadata": {},
   "source": [
    "Create a new dictionary of planets with radii between 1.0 and 2.0 Earth radii (inclusive)."
   ]
  },
  {
   "cell_type": "code",
   "execution_count": 136,
   "id": "8ee7975f-a9cc-4fd4-87f5-f8ffe8725d9d",
   "metadata": {},
   "outputs": [
    {
     "name": "stdout",
     "output_type": "stream",
     "text": [
      "{'B': {'radius': 1.2, 'temperature': 300}, 'A': {'radius': 1.5, 'temperature': 350}, 'I': {'radius': 2.0, 'temperature': 280}, 'N': {'radius': 1.0, 'temperature': 500}}\n"
     ]
    }
   ],
   "source": [
    "filtered_planets = {}\n",
    "\n",
    "for planet in planet_data_name:\n",
    "    if planet_data_name[planet]['radius'] >= 1.0 and planet_data_name[planet]['radius'] <= 2.0:\n",
    "        filtered_planets[planet] = planet_data_name[planet]\n",
    "\n",
    "print(filtered_planets)"
   ]
  },
  {
   "cell_type": "markdown",
   "id": "8baa7cbf-5e33-4cdc-a5a1-07b7ef24a98a",
   "metadata": {},
   "source": [
    "## 3 NumPy\n",
    "With your 1,000 semi-major axes list from Problem 1, convert it to a `numpy` array. "
   ]
  },
  {
   "cell_type": "code",
   "execution_count": 141,
   "id": "933c7543-be50-44d0-8c68-85201242dc70",
   "metadata": {},
   "outputs": [],
   "source": [
    "semimajor_array = np.array(semimajor_list)"
   ]
  },
  {
   "cell_type": "markdown",
   "id": "5fefc872-548b-47d9-b9e3-40166c44b7f8",
   "metadata": {},
   "source": [
    "With `numpy` find the mean, median, minimum and maximum."
   ]
  },
  {
   "cell_type": "code",
   "execution_count": 143,
   "id": "f255500b-0ff6-4869-a18f-4d6b1173f420",
   "metadata": {},
   "outputs": [
    {
     "data": {
      "text/plain": [
       "0.5018259329859783"
      ]
     },
     "execution_count": 143,
     "metadata": {},
     "output_type": "execute_result"
    }
   ],
   "source": [
    "np.mean(semimajor_array)"
   ]
  },
  {
   "cell_type": "code",
   "execution_count": 145,
   "id": "0d87421f-dd29-4fe1-8fa3-a844e0a791a7",
   "metadata": {},
   "outputs": [
    {
     "data": {
      "text/plain": [
       "0.474655601191173"
      ]
     },
     "execution_count": 145,
     "metadata": {},
     "output_type": "execute_result"
    }
   ],
   "source": [
    "np.median(semimajor_array)"
   ]
  },
  {
   "cell_type": "code",
   "execution_count": 153,
   "id": "993e136f-2728-45e9-af06-4a9e52e9587a",
   "metadata": {},
   "outputs": [
    {
     "data": {
      "text/plain": [
       "0.0008384014345800272"
      ]
     },
     "execution_count": 153,
     "metadata": {},
     "output_type": "execute_result"
    }
   ],
   "source": [
    "np.min(semimajor_array)"
   ]
  },
  {
   "cell_type": "code",
   "execution_count": 151,
   "id": "416b811a-1b6c-4020-b098-4cd94aaedca6",
   "metadata": {},
   "outputs": [
    {
     "data": {
      "text/plain": [
       "0.9999178149087848"
      ]
     },
     "execution_count": 151,
     "metadata": {},
     "output_type": "execute_result"
    }
   ],
   "source": [
    "np.max(semimajor_array)"
   ]
  },
  {
   "cell_type": "markdown",
   "id": "f044bf7d-1107-45b3-be82-ba3f5dec380a",
   "metadata": {},
   "source": [
    "Google another `numpy` function and apply it to your data. Explain what it does in a comment."
   ]
  },
  {
   "cell_type": "code",
   "execution_count": 157,
   "id": "c6f86d78-7d9a-4e97-9113-7d9588938738",
   "metadata": {},
   "outputs": [
    {
     "data": {
      "text/plain": [
       "0.29066322355980534"
      ]
     },
     "execution_count": 157,
     "metadata": {},
     "output_type": "execute_result"
    }
   ],
   "source": [
    "np.std(semimajor_array)\n",
    "#finds the standard deviation of the array"
   ]
  },
  {
   "cell_type": "markdown",
   "id": "47941937-6daa-47d2-a683-929e10d52a88",
   "metadata": {},
   "source": [
    "Turn radii and temperatures into a multidimensional array"
   ]
  },
  {
   "cell_type": "code",
   "execution_count": 162,
   "id": "a8eb4442-f51d-4d6b-8d4b-766992178fd6",
   "metadata": {},
   "outputs": [
    {
     "data": {
      "text/plain": [
       "array([[  1.2,   0.8,   1.5,   2. ,   1. ,   0.6],\n",
       "       [300. , 400. , 350. , 280. , 500. , 450. ]])"
      ]
     },
     "execution_count": 162,
     "metadata": {},
     "output_type": "execute_result"
    }
   ],
   "source": [
    "data_array = planet_data = np.array([radii, temperatures])\n",
    "data_array"
   ]
  },
  {
   "cell_type": "markdown",
   "id": "90eff94a-9b0f-4033-ab6d-33ade45ce039",
   "metadata": {},
   "source": [
    "Use a for loop to print the value on the second row, third column. "
   ]
  },
  {
   "cell_type": "code",
   "execution_count": 170,
   "id": "0f82f846-ffb6-41ee-bca9-8e6929875a7d",
   "metadata": {},
   "outputs": [
    {
     "name": "stdout",
     "output_type": "stream",
     "text": [
      "350.0\n"
     ]
    }
   ],
   "source": [
    "def print_third():\n",
    "    for i in range(len(data_array[1])):\n",
    "        if i == 2:\n",
    "            print(data_array[1, i])\n",
    "\n",
    "print_third()"
   ]
  },
  {
   "cell_type": "markdown",
   "id": "5577a243-b856-4c74-9544-eeb4cdc4f116",
   "metadata": {},
   "source": [
    "Use a `numpy` arrive to print the value on the second row, third column. "
   ]
  },
  {
   "cell_type": "code",
   "execution_count": 172,
   "id": "11ac10d4-235a-4e47-b5a6-06dc0ff2ed4a",
   "metadata": {},
   "outputs": [
    {
     "data": {
      "text/plain": [
       "350.0"
      ]
     },
     "execution_count": 172,
     "metadata": {},
     "output_type": "execute_result"
    }
   ],
   "source": [
    "data_array[1, 2]"
   ]
  },
  {
   "cell_type": "markdown",
   "id": "c98b3c53-3775-40ce-bb9d-0796eac6cda8",
   "metadata": {},
   "source": [
    "## 4 Plotting\n",
    "Create a scatter plot of the following semi-major axes (x-axis) vs. orbital periods (y-axis). Label the axes, add a legend and add a title: \"Orbital Periods otf Exoplanets.\"\n",
    "\n",
    "`semi_major_axes = [0.5, 1.0, 2.0, 1.5, 1.2, 0.8]`"
   ]
  },
  {
   "cell_type": "raw",
   "id": "ff5c7893-f5ef-4464-bfca-be068c6f6a5b",
   "metadata": {},
   "source": [
    "Create scatterplot"
   ]
  },
  {
   "cell_type": "code",
   "execution_count": 189,
   "id": "b6698b30-82aa-492a-88d5-a3fa88d69f25",
   "metadata": {},
   "outputs": [
    {
     "data": {
      "text/plain": [
       "<matplotlib.legend.Legend at 0x119625d30>"
      ]
     },
     "execution_count": 189,
     "metadata": {},
     "output_type": "execute_result"
    },
    {
     "data": {
      "image/png": "[encoded data removed]",
      "text/plain": [
       "<Figure size 640x480 with 1 Axes>"
      ]
     },
     "metadata": {},
     "output_type": "display_data"
    }
   ],
   "source": [
    "import matplotlib.pyplot as plt\n",
    "semi_major_axes = [0.5, 1.0, 2.0, 1.5, 1.2, 0.8]\n",
    "orbital_periods = keplers_with_numpy(semi_major_axes)\n",
    "\n",
    "plt.scatter(semi_major_axes, orbital_periods, label=\"Orbital Periods\", color='blue')\n",
    "plt.title(\"Orbital Periods of Exoplanets\")\n",
    "plt.xlabel(\"Semi-Major Axes (in AU)\")\n",
    "plt.ylabel(\"Orbital Periods (in seconds)\")\n",
    "plt.title(\"Orbital Periods of Exoplanets\")\n",
    "plt.legend()"
   ]
  },
  {
   "cell_type": "markdown",
   "id": "f4377731-8f55-49fc-a3ed-46f4f7a3756d",
   "metadata": {},
   "source": [
    "Create a bar plot of planet radii vs. their equilibrium temperatures. Label the axes, add a legend and add a title: \"Equilibrium Temperatures vs. Radii.\""
   ]
  },
  {
   "cell_type": "code",
   "execution_count": 197,
   "id": "5d3a42d9-ed7d-4c43-8f76-31b76f2dd870",
   "metadata": {},
   "outputs": [
    {
     "data": {
      "image/png": "[encoded data removed]",
      "text/plain": [
       "<Figure size 640x480 with 1 Axes>"
      ]
     },
     "metadata": {},
     "output_type": "display_data"
    }
   ],
   "source": [
    "plt.bar(radii, temperatures, label=\"Equilibrium Temperature\", color='skyblue')\n",
    "plt.title(\"Equilibrium Temperatures vs. Radii\")\n",
    "plt.xlabel(\"Radii\")\n",
    "plt.ylabel(\"Equilibrium Temperatures\")\n",
    "plt.legend()\n",
    "plt.show()"
   ]
  },
  {
   "cell_type": "markdown",
   "id": "01789974-2e76-4cb4-9756-3db5e6ae163f",
   "metadata": {},
   "source": [
    "Put the scatter plot and bar plot on the same figure (horizonatally). "
   ]
  },
  {
   "cell_type": "code",
   "execution_count": 205,
   "id": "91ffe9f0-8b44-4a57-88a2-d8637f5e60b2",
   "metadata": {},
   "outputs": [
    {
     "data": {
      "image/png": "[encoded data removed]",
      "text/plain": [
       "<Figure size 1000x400 with 2 Axes>"
      ]
     },
     "metadata": {},
     "output_type": "display_data"
    }
   ],
   "source": [
    "fig, ax = plt.subplots(1, 2, figsize=(10, 4))\n",
    "\n",
    "ax[0].scatter(semi_major_axes, orbital_periods, label=\"Orbital Periods\", color='blue')\n",
    "ax[0].set_title(\"Orbital Periods of Exoplanets\")\n",
    "ax[0].set_xlabel(\"Semi-Major Axes (AU)\")\n",
    "ax[0].set_ylabel(\"Orbital Periods (seconds)\")\n",
    "ax[0].legend()\n",
    "\n",
    "ax[1].bar(radii, temperatures, label=\"Equilibrium Temperatures\", color='skyblue')\n",
    "ax[1].set_title(\"Equilibrium Temperatures vs. Radii\")\n",
    "ax[1].set_xlabel(\"Radii\")\n",
    "ax[1].set_ylabel(\"Equilibrium Temperatures\")\n",
    "ax[1].legend()\n",
    "\n",
    "plt.tight_layout()\n",
    "\n",
    "plt.show()"
   ]
  },
  {
   "cell_type": "markdown",
   "id": "89cca10f-29a4-4f26-a9b3-8afedc5b702a",
   "metadata": {},
   "source": [
    "## 5 Modules\n",
    "Choose a function from this homework and put it into a module. Import the module with the function below. Make sure to show the output."
   ]
  },
  {
   "cell_type": "code",
   "execution_count": 1,
   "id": "23682c98-f7e7-4f16-8c05-8287dd874c82",
   "metadata": {},
   "outputs": [],
   "source": [
    "import kepler"
   ]
  },
  {
   "cell_type": "code",
   "execution_count": 3,
   "id": "c981ce40-d55a-4223-ade4-376ecd00767a",
   "metadata": {},
   "outputs": [
    {
     "name": "stdout",
     "output_type": "stream",
     "text": [
      "11.180339887498949\n"
     ]
    }
   ],
   "source": [
    "print(kepler.KEPNUMPY(5))"
   ]
  }
 ],
 "metadata": {
  "kernelspec": {
   "display_name": "Python 3 (ipykernel)",
   "language": "python",
   "name": "python3"
  },
  "language_info": {
   "codemirror_mode": {
    "name": "ipython",
    "version": 3
   },
   "file_extension": ".py",
   "mimetype": "text/x-python",
   "name": "python",
   "nbconvert_exporter": "python",
   "pygments_lexer": "ipython3",
   "version": "3.12.4"
  }
 },
 "nbformat": 4,
 "nbformat_minor": 5
}
