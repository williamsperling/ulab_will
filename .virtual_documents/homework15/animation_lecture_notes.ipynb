# Animation lecture
# Think of flipbooks. Each page is a picture, as you flip through it the
# figures move around. This is frame-by-frame animation
# We will do the same thing here today, make each picture and then 
# flip through them. Think of loops! But actually python will do it for us
# Think of Disney animations, same thing



# 1) Starting with a static plot (single flipbook page)
# 2) Turning our static plot into an animation
# 3) Recap


# 1) Drawing a static sine wave
import numpy as np
import matplotlib.pyplot as plt


# Create 100 evenly space x-values from 0 to 2pi
x = np.linspace(0, 2*np.pi, 100)

# Calculate the sine of each of the given x-values
y = np.sin(x)


# Now we plot the static wave 
plt.plot(x, y) # draw a line that connects the points
plt.xlabel("x-axis (radians)")
plt.ylabel("y-axis (radians)")
plt.title("Static Sine Wave")
plt.show()


# 2) Turning our plot into an animation
# Make a bunch of pictures and string them together

# Steps:
# A) create figure (aka our flipbook, the whole thing, outline)
# B) Define a function to update each of the pages (frames),
# each will be slightly different than the one before
# C) Use a module called FuncAnimation to loop through the frames for us!


import matplotlib.animation as animation


# Create out figures and axes
# Make our drawing space (blank canvas)
fig, ax = plt.subplots()

# Create our "moving" sine wave plot
# ax.plot(x, np.sin(x) will return a list of lines (each page in our flipbook)
# The comma means that after line we want the actual value, NOT the list
line, = ax.plot(x, np.sin(x)) # It means we are "unpacking a tuple"
# Putting stuff in a tuple is called "packing it" 
# This is only ONE line (initial sine wave), static aka not moving

# Example:
# list = [1, 2, 3]
# first, second, third = list
# # print(first, second, third)
# list = [1]
# print(list)
# list, = [1]
# print(list)

# Instead of making more lines, we just modify the original!
# We will update the y-values each time be picking different x values
# Now we make a function that will update our plots
# We have the first line, now we need to create the other ones
# A loop! 
def update(frame):
    """
    Updates the sine wave to shift horizontally.
    frame(int) = current frame number, increases with time
    line, (tuple) = the updated line object that is being redrawn
    """
    line.set_ydata(np.sin(x + frame / 10.0))
    # Divide by 10 to slow down the motion, cuts up the frame-rate
    # We still have to decide how many frames by that would still
    # make the animation choppy, the 10 makes it smoother
    # We are updating out "line" tuple we defined above
    # the (x + frame / 10) determines how far its moving each time
    # You cold also just make the np.linspace denser and add more frames
    # It takes a lot of playing around, so that is in your hands
    return line, 

# Now we actually sow all of them together!
ani = animation.FuncAnimation(fig, update, frames=100, interval=50, blit=True)
# fig = canvas, blank space to work, we are telling FuncAnimation what canvas we are painting on
# update = updating the plot, calls this function on every new frame
# frames = number of frames, number of flipbook pages (higher = longer)
# interval = time between frames in milliseconds (50 ms = 20 frames per second)
# Blit = makes things run faster, more efficiently, only redraws parts that change
# Doesn't make too big of a difference for this example

plt.show() # Doesn't work on my computer, might work on yours


# Now we can save our animation! 
# You might need to all brew install ffmpeg ?? idk 
# Most common
ani.save("animation.mp4", writer="ffmpeg", fps=20)

# We can also save it as a gif!
# Best for presentations and stuff, constnat loop 
ani.save("animation.gif", writer="pillow", fps=20)


# 3) Recap
# We start with a static plot, one initial frame, think plt.plot(x, y) 
# Then we update our frame, def update(frame: ...
# Next we sow them together (animate!) with animation.FuncAnimation(fig, 
# update, frames, interval, blit)
# Finally we will save our animation as .mp4 or a gif
# So animations are flipbooks! We slightly different images to make movement
# Super awesome for any research talks! Like ULAB! People love pictures in
# talks but they especially love videos, little movies and gifs!
