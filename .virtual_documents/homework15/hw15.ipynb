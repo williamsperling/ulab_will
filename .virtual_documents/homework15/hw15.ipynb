





import numpy as np
import matplotlib.pyplot as plt
import matplotlib.animation as animation

# Create x values
x = np.linspace(0, 2 * np.pi, 100)

# Create figure and axes
fig, ax = plt.subplots()

# Create the initial sine wave plot
line, = ax.plot(x, np.sin(x))

def update(frame):
    """Updates the sine wave to shift horizontally twice as fast."""
    line.set_ydata(np.sin(x + frame / 5.0))  # Increased speed by adjusting frame shift
    return line, 

# Create the animation
ani = animation.FuncAnimation(fig, update, frames=100, interval=25, blit=True)

# Save as MP4 using FFmpeg
ani.save("sine_wave.mp4", writer="ffmpeg", fps=40)

plt.show()



# Your comment here





# Your code here





# Your comment here





# Your code here





# Your code here





# Your code here





# Your code here





# Your code here





# Your code here





# Your code here





# Your code here





# Your code here





# Store the orbits:





# Your code here
################ Earth #############
rx, ry, rz = xe - xs, ye - ys, ze - zs
modr3_e = (rx**2 + ry**2 + rz**2)**1.5
fx_e = -gravconst_e * rx / modr3_e
fy_e = -gravconst_e * ry / modr3_e
    
xve += fx_e * dt / Me
yve += fy_e * dt / Me
xe += xve * dt
ye += yve * dt
    
xelist.append(xe)
yelist.append(ye)

################ Mars ##############
rx_m, ry_m, rz_m = xm - xs, ym - ys, zm - zs
modr3_m = (rx_m**2 + ry_m**2 + rz_m**2)**1.5
fx_m = -gravconst_m * rx_m / modr3_m
fy_m = -gravconst_m * ry_m / modr3_m
    
xvm += fx_m * dt / Mm
yvm += fy_m * dt / Mm
xm += xvm * dt
ym += yvm * dt
    
xmlist.append(xm)
ymlist.append(ym)

################ Comet ##############
rx_c, ry_c, rz_c = xc - xs, yc - ys, zc - zs
modr3_c = (rx_c**2 + ry_c**2 + rz_c**2)**1.5
fx_c = -gravconst_c * rx_c / modr3_c
fy_c = -gravconst_c * ry_c / modr3_c
    
xvc += fx_c * dt / Mc
yvc += fy_c * dt / Mc
xc += xvc * dt
yc += yvc * dt
    
xclist.append(xc)
yclist.append(yc)

################ Sun ##############
xvs += -(fx_e + fx_m) * dt / Ms
yvs += -(fy_e + fy_m) * dt / Ms
xs += xvs * dt
ys += yvs * dt
xslist.append(xs)
yslist.append(ys)

t += dt





# Your code here 





# Your code here





# Your code here





# Your code here
anim.save("animation.mp4", writer="ffmpeg", fps=20)



