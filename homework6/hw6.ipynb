{
 "cells": [
  {
   "cell_type": "markdown",
   "id": "21a1f0d2-d75c-4443-b816-1d1db3760454",
   "metadata": {},
   "source": [
    "# HW 6 - Iterables\n",
    "ULAB - Physics and Astronomy Division \\\n",
    "Due **Wednesday, October 30th, 2024 at 11:59pm** on Gradescope\n",
    "\n",
    "### REMINDER: Once you are done with this homework, make sure to include a screenshot of you pushing this notebook inside of your homework6 branch. Make sure to include this screenshot in your branch before submitting to Gradescope!\n",
    "\n",
    "### If there is no screenshot, then you will recieve a zero! \n",
    "\n",
    "General Tip (so you don't get silly points taken off):\n",
    "- Make sure **each function** follows good coding practices (i.e. a comment, detailed names, different steps on each line, etc)."
   ]
  },
  {
   "cell_type": "markdown",
   "id": "8dc7e46b-1e8e-486c-a2e9-d615c687028b",
   "metadata": {},
   "source": [
    "# 1 Lists\n",
    "\n",
    "## 1.1 List Slicing and Striding\n",
    "Write a **function** that takes in a list of integers and returns:\n",
    "\n",
    "- the first 5 elements\n",
    "- the last 5 elements\n",
    "- every 2nd element in the list\n",
    "- the list in reverse order.\n",
    "\n",
    "Use the test case below, along with two other ones (that you make-up):\n",
    "\n",
    "```\n",
    "list = [1, 2, 3, 4, 5, 6, 7, 8, 9, 10, 11, 12, 14, 15, 16, 17, 18, 19, 20]\n",
    "```"
   ]
  },
  {
   "cell_type": "code",
   "execution_count": 4,
   "id": "08dabd73-3dbc-4aab-843a-d4b81102835d",
   "metadata": {},
   "outputs": [
    {
     "name": "stdout",
     "output_type": "stream",
     "text": [
      "[1, 2, 3, 4, 5]\n",
      "[16, 17, 18, 19, 20]\n",
      "[1, 3, 5, 7, 9, 11, 14, 16, 18, 20]\n",
      "[20, 19, 18, 17, 16, 15, 14, 12, 11, 10, 9, 8, 7, 6, 5, 4, 3, 2, 1]\n",
      "[2, 4, 8, 16, 32]\n",
      "[32, 64, 128, 256, 512]\n",
      "[2, 8, 32, 128, 512]\n",
      "[512, 256, 128, 64, 32, 16, 8, 4, 2]\n",
      "[10, 20, 30, 40, 50]\n",
      "[40, 50, 60, 70, 80]\n",
      "[10, 30, 50, 70]\n",
      "[80, 70, 60, 50, 40, 30, 20, 10]\n"
     ]
    }
   ],
   "source": [
    "# Your code here for 1.1\n",
    "def slicing_and_striding(list):\n",
    "    #a function that slices a list\n",
    "    #it returns the first 5 elements of the list, the last 5 elements, every other element, and a list of the numbers in reverse order\n",
    "    \n",
    "    print(list[:5]) #prints the first 5 elements\n",
    "    \n",
    "    print(list[-5:]) #prints the last 5 elements\n",
    "    \n",
    "    list_everyother = list[::2] #prints every other element\n",
    "    print(list_everyother)\n",
    "        \n",
    "    list_reverse = list[::-1] #creates a list of the numbers in the test case list but in reverse order\n",
    "    print(list_reverse)\n",
    "\n",
    "\n",
    "list1 = [1, 2, 3, 4, 5, 6, 7, 8, 9, 10, 11, 12, 14, 15, 16, 17, 18, 19, 20]\n",
    "list2 = [2, 4, 8, 16, 32, 64, 128, 256, 512]\n",
    "list3 = [10, 20, 30, 40, 50, 60, 70, 80]\n",
    "\n",
    "slicing_and_striding(list1)\n",
    "slicing_and_striding(list2)\n",
    "slicing_and_striding(list3)\n",
    "\n",
    "    \n",
    "    "
   ]
  },
  {
   "cell_type": "markdown",
   "id": "92c77920-20fc-455e-bf52-10b5a518ed2d",
   "metadata": {},
   "source": [
    "## 1.2 Iterating Over Lists with For Loops\n",
    "Write a **function** that takes in a list, with a **for** loop to return: \n",
    "- the square of each number in the list\n",
    "- the cube of each even number in the list\n",
    "\n",
    "Use the test case below, along with two other ones (that you make-up):\n",
    "\n",
    "```\n",
    "list = [1, 2, 3, 4, 5, 6]\n",
    "```"
   ]
  },
  {
   "cell_type": "code",
   "execution_count": 6,
   "id": "5054c807-a247-4159-9ce1-43020bcc3000",
   "metadata": {},
   "outputs": [
    {
     "name": "stdout",
     "output_type": "stream",
     "text": [
      "[1, 4, 9, 16, 25, 36]\n",
      "[1, 8, 27, 64, 125, 216]\n",
      "[4, 16, 36, 64, 100, 144]\n",
      "[8, 64, 216, 512, 1000, 1728]\n",
      "[100, 81, 64, 49, 36, 25]\n",
      "[1000, 729, 512, 343, 216, 125]\n"
     ]
    }
   ],
   "source": [
    "# Your code here for 1.2\n",
    "def iterated_list(list):\n",
    "    #a function that takes in a list and returns a list of its squares and a list of its cubes\n",
    "\n",
    "    num_squared = [] #initializes a list to fill with the squares\n",
    "    for number in list:\n",
    "        num_squared.append(number**2) #iterates over the list and adds the squared numbers to the list num_squared\n",
    "    print(num_squared)\n",
    "\n",
    "    num_cubed = [] #initializes alist to fill with the cubes\n",
    "    for number in list:\n",
    "        num_cubed.append(number**3) #iterates over the list and adds the cubed numbers to the list num_cubed\n",
    "    print(num_cubed)\n",
    "\n",
    "list1 = [1, 2, 3, 4, 5, 6]\n",
    "list2 = [2, 4, 6, 8, 10, 12]\n",
    "list3 = [10, 9, 8, 7, 6, 5]\n",
    "\n",
    "iterated_list(list1)\n",
    "iterated_list(list2)\n",
    "iterated_list(list3)\n",
    "        "
   ]
  },
  {
   "cell_type": "markdown",
   "id": "e2e075da-c004-400d-b796-5435e096816d",
   "metadata": {},
   "source": [
    "# 2 Dictionaries\n",
    "We have not fully covered **dictionaries** in class, but a **dictionary** is a collection of key-value pairs. Each key is unique and is associated with a specific value. Like a real dictionary! \n",
    "\n",
    "You can create a dictionary by placing key-value pairs inside of curly brackets `{}` with a `:` separating the key from the value. \n",
    "\n",
    "Run the cell below for an example:"
   ]
  },
  {
   "cell_type": "code",
   "execution_count": 8,
   "id": "dbdb0f41-4f57-4524-ab51-ff1fc502bdfc",
   "metadata": {},
   "outputs": [
    {
     "name": "stdout",
     "output_type": "stream",
     "text": [
      "{'Mercury': 0.39, 'Venus': 0.72, 'Earth': 1.0, 'Mars': 1.52, 'Jupiter': 5.2, 'Saturn': 9.58, 'Uranus': 19.22, 'Neptune': 30.05}\n"
     ]
    }
   ],
   "source": [
    "# A dictionary that contains some data about the planets in our solar system\n",
    "planet_data = {\n",
    "    \"Mercury\": 0.39, \n",
    "    \"Venus\": 0.72,\n",
    "    \"Earth\": 1.00, # distance from the Sun in AU\n",
    "    \"Mars\": 1.52,\n",
    "    \"Jupiter\": 5.20,\n",
    "    \"Saturn\": 9.58,\n",
    "    \"Uranus\": 19.22,\n",
    "    \"Neptune\": 30.05\n",
    "}   \n",
    "\n",
    "print(planet_data) # print the dictonary"
   ]
  },
  {
   "cell_type": "markdown",
   "id": "886c93f4-0027-4969-ba67-cc12eca04c9c",
   "metadata": {},
   "source": [
    "## 2.1 Looping through a dictionary\n",
    "Write a function that takes in the `planet_data` dictionary and uses a `for` loop to print the names of each of the planets and its distance from the sun."
   ]
  },
  {
   "cell_type": "code",
   "execution_count": 10,
   "id": "a3ab065a-42f5-4aa0-8e0f-38e87c583464",
   "metadata": {},
   "outputs": [
    {
     "name": "stdout",
     "output_type": "stream",
     "text": [
      "Mercury: 0.39 AU\n",
      "Venus: 0.72 AU\n",
      "Earth: 1.0 AU\n",
      "Mars: 1.52 AU\n",
      "Jupiter: 5.2 AU\n",
      "Saturn: 9.58 AU\n",
      "Uranus: 19.22 AU\n",
      "Neptune: 30.05 AU\n"
     ]
    }
   ],
   "source": [
    "# Your code here for 2.1\n",
    "def planet_distances(data):\n",
    "    #function that interates over the dictionary and returns the planet and its distance from the sun\n",
    "    \n",
    "    for planet in data:\n",
    "        distance = data[planet]  #Gives the distance for the specific planet\n",
    "        print(planet + \": \" + str(distance) + \" AU\")  #prints \"planet: distance AU\"\n",
    "\n",
    "planet_data = {\n",
    "    \"Mercury\": 0.39, \n",
    "    \"Venus\": 0.72,\n",
    "    \"Earth\": 1.00,  # distance from the Sun in AU\n",
    "    \"Mars\": 1.52,\n",
    "    \"Jupiter\": 5.20,\n",
    "    \"Saturn\": 9.58,\n",
    "    \"Uranus\": 19.22,\n",
    "    \"Neptune\": 30.05\n",
    "}   \n",
    "\n",
    "#Call the function with the planet data provided\n",
    "planet_distances(planet_data)"
   ]
  },
  {
   "cell_type": "markdown",
   "id": "2b38b6fb-ce68-4f20-a8a1-ba241e8db53e",
   "metadata": {},
   "source": [
    "## 2.2 Dictionaries and Conditionals\n",
    "Write a function that uses a while loop to print all the planets that are a minimum distance of 5 AU from the Sun. "
   ]
  },
  {
   "cell_type": "code",
   "execution_count": 12,
   "id": "6e07cf13-efba-4a75-ad75-0428dc31108d",
   "metadata": {},
   "outputs": [
    {
     "name": "stdout",
     "output_type": "stream",
     "text": [
      "Jupiter\n",
      "Saturn\n",
      "Uranus\n",
      "Neptune\n"
     ]
    }
   ],
   "source": [
    "# Your code here for 2.2\n",
    "def planets_far_away(planet_data):\n",
    "    #function that prints only the planets at least 5 AU from the sun\n",
    "    \n",
    "    index = 0  # Initialize index for the while loop\n",
    "    planets = list(planet_data)  # Create a list of planets from the dictionary\n",
    "    \n",
    "    while index < len(planets): #a while loop to run through the list of planet_data\n",
    "        planet = planets[index]  #Get the planet name using the index\n",
    "        distance = planet_data[planet]  # Get the corresponding distance from the dictionary\n",
    "        \n",
    "        if distance >= 5:  #Check if distance is 5 AU or more\n",
    "            print(planet) #print the planet\n",
    "        \n",
    "        index += 1  #Move to the next planet\n",
    "        \n",
    "planet_data = {\n",
    "    \"Mercury\": 0.39, \n",
    "    \"Venus\": 0.72,\n",
    "    \"Earth\": 1.00,  # distance from the Sun in AU\n",
    "    \"Mars\": 1.52,\n",
    "    \"Jupiter\": 5.20,\n",
    "    \"Saturn\": 9.58,\n",
    "    \"Uranus\": 19.22,\n",
    "    \"Neptune\": 30.05\n",
    "}   \n",
    "\n",
    "#Call the function with the planet data provided\n",
    "planets_far_away(planet_data)"
   ]
  },
  {
   "cell_type": "markdown",
   "id": "5e1ba0c0-5dd9-44e8-895c-73a36d614949",
   "metadata": {},
   "source": [
    "# 3 Observing Stars in a Cluster\n",
    "Your goal is to calculate the total brightness of a group of stars in a star cluster and estimate how long it would take for a telescope to observer each star, depending on their brightness (magnitude). Here is some background information:\n",
    "- The brightness of a star, from a telescope, is measured by its **apparent magnitude**, a LOWER magnitude means a brighter star. A HIGHER magnitude means a fainter star. So a 4th magnitude star is much brighter than a 17th magnitude star.\n",
    "- To convert magnitude into brightness, use the following formula\n",
    "$$\n",
    "\\text{Brightness} = 10^{-\\frac{\\text{magnitude}}{2.5}}\n",
    "$$\n",
    "\n",
    "Use this list of magnitudes and time limit:\n",
    "\n",
    "```\n",
    "magnitudes = [12.5, 13.2, 14.8, 19.1, 21.0, 18.5, 15.3, 10.5, 23.0]\n",
    "time_limit = 500\n",
    "```\n",
    "\n",
    "Expected outcome (your solutions will be the answers to the ???):\n",
    "- Total brightness of the stars: ???\n",
    "- Total observation time for all observable stars: ???\n",
    "- Number of stars that can be observed within 500 seconds: ???"
   ]
  },
  {
   "cell_type": "markdown",
   "id": "336785a7-71bf-434d-982c-dd72dd29cf71",
   "metadata": {},
   "source": [
    "## 3.1 Calculate Brightness\n",
    "1) Write a **function** which inputs a list of star magnitudes (brightnesses).\n",
    "2) Inside your function, use a `for` loop to calculate (with the given formula) the brightness of each star.\n",
    "3) Inside your function, use a `for` loop to sum up the total brightness of all the stars.\n",
    "5) Have your function return the **total brightness** of all the stars and a **list of the brightnesses** of the stars.\n",
    "6) Test out your function with the **given** magnitude values."
   ]
  },
  {
   "cell_type": "code",
   "execution_count": 15,
   "id": "ccc331f4-c029-4a82-810b-4a78d0fa1a2a",
   "metadata": {},
   "outputs": [
    {
     "name": "stdout",
     "output_type": "stream",
     "text": [
      "list of brightnesses = [1e-05, 5.248074602497734e-06, 1.2022644346174132e-06, 2.29086765276777e-08, 3.981071705534969e-09, 3.981071705534969e-08, 7.585775750291836e-07, 6.309573444801929e-05, 6.309573444801942e-10]\n",
      "total brightness = 8.037198248279666e-05\n"
     ]
    }
   ],
   "source": [
    "# Your code here for 3.\n",
    "def star_brightness(magnitudes):\n",
    "    brightnesses = []  # Create an empty list to hold brightness values\n",
    "    total_brightness = 0  # Initialize total brightness to 0\n",
    "\n",
    "    # Loop through each magnitude in the input list\n",
    "    for magnitude in magnitudes:\n",
    "        # Calculate brightness using the formula\n",
    "        brightness = 10 ** (-magnitude / 2.5)\n",
    "        brightnesses.append(brightness)\n",
    "    print(f'list of brightnesses = {brightnesses}')\n",
    "        \n",
    "    for brightness in brightnesses:\n",
    "         total_brightness = sum(brightnesses)\n",
    "    print(f'total brightness = {total_brightness}')\n",
    "         \n",
    "\n",
    "mag1 = [12.5, 13.2, 14.8, 19.1, 21.0, 18.5, 15.3, 10.5, 23.0]  #given list of magnitudes\n",
    "\n",
    "star_brightness(mag1)"
   ]
  },
  {
   "cell_type": "markdown",
   "id": "9aff0e1c-9f88-4ebb-a05b-d39363d9e88e",
   "metadata": {},
   "source": [
    "## 3.2 Observation Time\n",
    "1) Write a **function** which inputs a list of star magnitudes (brightnesses).\n",
    "2) Inside your function, use a `for` loop to calculate the time to observe each star.\n",
    "- You can just assume each star's observation time is inversely proportional to its brightness with the following formula:\n",
    "\n",
    "$$\n",
    "\\text{Observation Time (in seconds)} \\propto \\frac{1}{\\text{Brightness}} \n",
    "$$\n",
    "\n",
    "3) Inside you function, write a `condition` that ignores stars that have a magnitude greater than 20 (very very faint stars).\n",
    "4) Have your function return the **total observation time** (ignoring >20 magnitudes) and a **list of the times** it would take to observe each individual star.\n",
    "5) Test out your function with the **given** magnitude values."
   ]
  },
  {
   "cell_type": "code",
   "execution_count": 17,
   "id": "044d17cf-82a8-44b6-8958-447632f713f6",
   "metadata": {},
   "outputs": [
    {
     "name": "stdout",
     "output_type": "stream",
     "text": [
      "observation times = [99999.99999999999, 190546.07179632442, 831763.7711026708, 43651583.22401666, 25118864.315095823, 1318256.7385564074, 15848.931924611143]\n",
      "total observation time = 71226863.0524925\n"
     ]
    }
   ],
   "source": [
    "# Your code here for 3.2\n",
    "def observation_time(magnitudes):\n",
    "    #function that returns total observation time and a list of the times for observation of each star\n",
    "    \n",
    "    observation_times = []  #Initialize list holding observation times\n",
    "    total_observation_time = 0  #Initialize total observation time\n",
    "\n",
    "    for magnitude in magnitudes:\n",
    "        brightness = 10 ** -(magnitude / 2.5)\n",
    "\n",
    "        if magnitude <= 20:\n",
    "            #Calculate observation time (in seconds)\n",
    "            observation_time = 1 / brightness\n",
    "            observation_times.append(observation_time)  # Append to the list\n",
    "            total_observation_time += observation_time  #add up observation times\n",
    "\n",
    "    #Print results with f-string\n",
    "    print(f'observation times = {observation_times}')\n",
    "    print(f'total observation time = {total_observation_time}')\n",
    "\n",
    "mag1 = [12.5, 13.2, 14.8, 19.1, 21.0, 18.5, 15.3, 10.5, 23.0]\n",
    "\n",
    "observation_time(mag1)\n",
    "        \n",
    "    "
   ]
  },
  {
   "cell_type": "markdown",
   "id": "102d3c15-0b4f-48a7-8fdc-f896c1841aca",
   "metadata": {},
   "source": [
    "## 3.3 Time Until the Limit\n",
    "1) Write a **function** which inputs a list of star magnitudes (brightnesses) and time limit.\n",
    "   - Make your time limit a default argument.\n",
    "2) Inside your function, make a counter called `total time` and set it to 0.\n",
    "3) Inside your function, use a `while` loop to set the time limit of your observation.\n",
    "4) Inside your function, use assigment operators to update the `total time` observed. \n",
    "5) Inside your function, use a `condition` to skip stars with magnitude 20 or greater. \n",
    "6) Have your function return the **number of stars that can be observed** within the time limit and **how long the observation will take** (this should be less than the time limit).\n",
    "7) Test out your function with the **given** magnitude values and time limit."
   ]
  },
  {
   "cell_type": "code",
   "execution_count": 19,
   "id": "5a541a62-0903-41bd-91c9-ee21172069a3",
   "metadata": {},
   "outputs": [
    {
     "name": "stdout",
     "output_type": "stream",
     "text": [
      "Total observable stars: 0\n",
      "Total time observed: 0\n"
     ]
    }
   ],
   "source": [
    "# Your code here for 3.3\n",
    "def observable_stars(magnitudes, time_limit = 500):\n",
    "    #function that returns the total time observed and the number of stars that can be observed\n",
    "\n",
    "    \n",
    "    total_time_observed = 0  # Initialize total time observed\n",
    "    total_observable_stars = 0  # Initialize total observable stars\n",
    "\n",
    "    #Initialize index for the while loop\n",
    "    index = 0\n",
    "\n",
    "    while total_time_observed < time_limit and index < len(magnitudes):\n",
    "        magnitude = magnitudes[index]\n",
    "        brightness = 10 ** (-magnitude / 2.5)  # Calculate brightness\n",
    "        \n",
    "        #Only for stars with magnitude <20\n",
    "        if magnitude < 20:\n",
    "            observation_time = 1 / brightness  # Calculate observation time\n",
    "            \n",
    "            #Check time limit\n",
    "            if total_time_observed + observation_time <= time_limit:\n",
    "                total_time_observed += observation_time  # Update total time observed\n",
    "                total_observable_stars += 1  # Increment the observable stars count\n",
    "\n",
    "        index += 1  # Move to the next star\n",
    "\n",
    "    # Print final results after the loop\n",
    "    print(f'Total observable stars: {total_observable_stars}')\n",
    "    print(f'Total time observed: {total_time_observed}')\n",
    "\n",
    "mag1 = [12.5, 13.2, 14.8, 19.1, 21.0, 18.5, 15.3, 10.5, 23.0]\n",
    "\n",
    "observable_stars(mag1)"
   ]
  },
  {
   "cell_type": "markdown",
   "id": "d2ab246f-9570-483e-b35b-cf1056f20936",
   "metadata": {},
   "source": [
    "## 3.4 Call Upon Your Functions\n",
    "You do not need to rewrite your functions once you have written them! That's what is so awesome about **functions**! \n",
    "\n",
    "1) With a new test case (different magnitudes and time limit) call your three functions you wrote above.\n",
    "2) Print out their return statements, example:\n",
    "\n",
    "```\n",
    ">>> my_return = my_function(my_argument):\n",
    ">>> print(my_return)\n",
    "```"
   ]
  },
  {
   "cell_type": "code",
   "execution_count": 21,
   "id": "4c4c9389-04f5-49bc-823c-a12d6c003b60",
   "metadata": {},
   "outputs": [
    {
     "name": "stdout",
     "output_type": "stream",
     "text": [
      "list of brightnesses = [3.9810717055349695e-05, 3.019951720402019e-09, 1.7378008287493765e-07, 3.981071705534969e-09, 1.584893192461114e-07]\n",
      "total brightness = 4.014998748089668e-05\n",
      "observation times = [25118.86431509582, 5754399.373371566, 6309573.44480193]\n",
      "total observation time = 12089091.68248859\n",
      "Total observable stars: 0\n",
      "Total time observed: 0\n",
      "None\n",
      "None\n",
      "None\n"
     ]
    }
   ],
   "source": [
    "# Your code here for 3.4\n",
    "mag2 = [11, 21.3, 16.9, 21, 17]\n",
    "time_limit= 6000\n",
    "\n",
    "ret_st_st_br = star_brightness(mag2) #returns star brightness function\n",
    "ret_st_obs_time = observation_time(mag2) #returns observation time function\n",
    "ret_st_obs_stars = observable_stars(mag2, time_limit) #returns observable stars function\n",
    "\n",
    "print(ret_st_st_br)\n",
    "print(ret_st_obs_time)\n",
    "print(ret_st_obs_stars)\n",
    "\n"
   ]
  },
  {
   "cell_type": "markdown",
   "id": "daba92d4-a646-4efc-824d-85b52ea3c573",
   "metadata": {},
   "source": [
    "# 4 Debug the Quadratic Function!\n",
    "The code below does not follow proper coding hygiene (good coding sklls) and is riddled with bugs! Answer the following question and follow the steps below:\n",
    "1) When you run the cell, what is the first error you get? What does this mean? What are three other things wrong with this function?\n",
    "2) Fix the bugs! No importing packages.\n",
    "3) Rewrite the code, such that it follows \"good coding skills\".\n",
    "\n",
    "Try out the test case of `a = 2`, `b = -5` and `c = 3`. You should get `(1.5, 1.0)`. Try out your own test case as well."
   ]
  },
  {
   "cell_type": "code",
   "execution_count": 23,
   "id": "cd66dd28-f8d3-447c-8d20-ff3e31bfaa07",
   "metadata": {},
   "outputs": [
    {
     "ename": "SyntaxError",
     "evalue": "invalid decimal literal (3675565085.py, line 5)",
     "output_type": "error",
     "traceback": [
      "\u001b[0;36m  Cell \u001b[0;32mIn[23], line 5\u001b[0;36m\u001b[0m\n\u001b[0;31m    bottom = 2a\u001b[0m\n\u001b[0m             ^\u001b[0m\n\u001b[0;31mSyntaxError\u001b[0m\u001b[0;31m:\u001b[0m invalid decimal literal\n"
     ]
    }
   ],
   "source": [
    "def q_f(a, b = [1, 10, -5], c = \"three\"):\n",
    "    new_b = b[0]\n",
    "    bottom = two * a\n",
    "    a = 2\n",
    "    bottom = 2a\n",
    "    while bottom != 0:\n",
    "        print(\"\n",
    "    pos_answer == (-b + (b*2 - 4 * a * c)**(1/2)) / bottom \n",
    "    neg_answer = (-b - (b**2 - 44 * a * c)**(1/2)) // bottom\n",
    "    neg_answer = -(pos_answer) \n",
    "    \n",
    "    return [(max(neg_answer), min(pos_answer)) for i in range(55)]\n",
    "\n",
    "#First error is a syntax error for an invalid decimal literal for bottom = 2a. This is because you have to use a numeric function (like * to multiply) rather than just put the number with the letter\n",
    "#3 other things wrong: vague function name, wrote out the number 2 as \"two\", and set c = \"three\" when it should be 3 "
   ]
  },
  {
   "cell_type": "code",
   "execution_count": 24,
   "id": "0b70aa28-eff4-4de5-9fd0-d21950f81fb4",
   "metadata": {},
   "outputs": [
    {
     "name": "stdout",
     "output_type": "stream",
     "text": [
      "Positive root = 1.5\n",
      "Negative root = 1.0\n",
      "(1.5, 1.0)\n"
     ]
    }
   ],
   "source": [
    "def quad_function(a, b, c):\n",
    "    bottom = 2 * a\n",
    "    discriminant = b ** 2 - 4 * a * c  # Calculate the discriminant\n",
    "\n",
    "    # Check the discriminant\n",
    "    if discriminant < 0:\n",
    "        print(\"No real roots.\")\n",
    "\n",
    "    # Calculate the roots\n",
    "    pos_answer = (-b + discriminant**0.5) / bottom\n",
    "    neg_answer = (-b - discriminant**0.5) / bottom\n",
    "        \n",
    "    print(f'Positive root = {pos_answer}')\n",
    "    print(f'Negative root = {neg_answer}')\n",
    "    \n",
    "    return pos_answer, neg_answer  # Return the roots\n",
    "\n",
    "result = quad_function(2, -5, 3)\n",
    "print(result)"
   ]
  },
  {
   "cell_type": "markdown",
   "id": "8cf33b19-9bca-484e-8129-d8a4896a1bfa",
   "metadata": {},
   "source": [
    "# 5 Proper Submission\n",
    "To recieve full credit for this assignment make sure you do the following:\n",
    "1) Copy this jupter notebook from the `ulab_2024` repository into **YOUR** local `homework` branch.\n",
    "   \n",
    "3) Follow the tasks. Make sure to run all the cells so that all output is visible.\n",
    "   \n",
    "5) Push this notebook to your remote `homework6` branch. Refer to the lecture slides for more information.\n",
    "      \n",
    "6) **WARNING!! IF YOU DO NOT FOLLOW THIS STEP YOU WILL RECIEVE A ZERO!**\n",
    "   1) Take a screenshot of your command line when you `push` this notebook from your local `homework6` branch to your remote `homework6` branch. Make sure to prove that you are inside a branch besides `main` or `master` by calling `git branch` and make sure to prove that your `homework6` branch only contains the homework4 folder of Jupyter Notebook you copied over from `ulab_2024` (which can be done by calling `ls`). You could also call `git status` before/after as a way to prove you pushed the proper files to the correct branches.\n",
    "   2)  Include that screenshot in your remote branch when you upload your GitHub branch to Gradescope!"
   ]
  },
  {
   "cell_type": "code",
   "execution_count": null,
   "id": "b0926042-d1cf-4a2e-8fc8-d93395a6a7cf",
   "metadata": {},
   "outputs": [],
   "source": []
  }
 ],
 "metadata": {
  "kernelspec": {
   "display_name": "Python 3 (ipykernel)",
   "language": "python",
   "name": "python3"
  },
  "language_info": {
   "codemirror_mode": {
    "name": "ipython",
    "version": 3
   },
   "file_extension": ".py",
   "mimetype": "text/x-python",
   "name": "python",
   "nbconvert_exporter": "python",
   "pygments_lexer": "ipython3",
   "version": "3.12.4"
  }
 },
 "nbformat": 4,
 "nbformat_minor": 5
}
