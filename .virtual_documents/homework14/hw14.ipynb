





import astropy.units as u





speed_kmph = 60 * u.km / u.h
speed_mps = speed_kmph.to(u.m / u.s)
print(f"{speed_mps:.2f}")





#Julian Date = Number of days since 12:00 UT on January 1, 4713 BCE (Julian calendar)





# JULIAN CALENDAR = (365.25 days/year) - adds leap day every 4 years
# GREGORIAN CALENDAR = adds leap year every 4 years, except for years divisible by 100 but not 400 (365.2425 days/year).






from astropy.time import Time





current_time = Time.now()
julian_date = current_time.jd
print(f"Julian Date: {julian_date}")





time_str = "1969-07-02 20:17:00"
time = Time(time_str)

date = time.jd

print(f"Julian Date: {date}")





#Neill Armstrong and Buzz Aldrin landed on the moon (unless it was all fake of course)





from astropy.coordinates import SkyCoord, Galactic, AltAz, EarthLocation





ra = 15
dec = -20
celestial_object = SkyCoord(ra=ra, dec=dec, unit=('deg', 'deg'), frame='icrs')
current_time = Time.now()
print(f"Celestial Object (ICRS): {celestial_object}")
print(f"Current Time: {current_time}")





celestial_object_galactic = celestial_object.transform_to('galactic')
print(f"Galactic Coordinates: \nLongitude: {celestial_object_galactic.l} \nLatitude: {celestial_object_galactic.b}")





campbell_hall_location = EarthLocation.of_site('keck')

altaz_frame = AltAz(obstime=current_time, location=campbell_hall_location)

celestial_object_altaz = celestial_object.transform_to(altaz_frame)

print(f"Altitude: {celestial_object_altaz.alt:.2f}")
print(f"Azimuth: {celestial_object_altaz.az:.2f}")






from astropy.io import fits





from astropy.utils.data import download_file





import numpy as np





image_file = download_file('http://data.astropy.org/tutorials/FITS-images/HorseHead.fits', cache=True)





hdul = fits.open(image_file)

#Display the information about the HDU list
hdul.info()

#Access the first HDU (Primary HDU)
primary_hdu = hdul[0]
print("Primary HDU Data:")
print(primary_hdu.data)

#Access the second HDU (Extension HDU)
if len(hdul) > 1:
    extension_hdu = hdul[1]
    print("\nExtension HDU Data:")
    print(extension_hdu.data)





image_data = hdul[0].data
brightest_pixel = np.max(image_data)
print(f"Brightest Pixel: {brightest_pixel}")





least_bright = np.min(image_data)
print(f"Least Bright Pixel: {least_bright}")





from astropy.table import Table





data = {
    'Name': ['Sirius', 'Canopus', 'Arcturus'],
    'Magnitude': [-1.46, -0.74, -0.05],
    'Spectral Type': ['A1Vm', 'A9II', 'K1.5III']
}

# Create the table
star_table = Table(data)

# Display the table
print(star_table)





star_table.write('star_table.fits', format='fits', overwrite = True)





star_table_read = Table.read('star_table.fits', format='fits')
print(star_table_read)





#Scatter plot used to show the relationship between the luminosities or absolute magnitudes of stars and their spectral types or surface temperatures.





import pandas as pd





df = pd.read_csv('cluster_data.csv', 
                 skiprows=44,
                 sep=';',
                 header=None,
                 index_col=0,
                 names=['HIP', 'Vmag', 'Plx', 'B-V', 'SpType'],
                 skipfooter=1,
                 engine='python')





df.head()





df_clean = df.map(lambda x: np.nan if isinstance(x, str) and x.isspace() else x)





df_clean = df_clean.dropna()





df_clean[['Vmag', 'Plx', 'B-V']] = df_clean[['Vmag', 'Plx', 'B-V']].astype(float)

# Display dataset summary
print(df_clean.describe())





df_valid = df_clean[df_clean['Plx'] > 0].copy()
df_valid['M_V'] = df_valid['Vmag'] + 5 * np.log10(df_valid['Plx'] / 100)
print(df_valid[['Vmag', 'Plx', 'M_V']].head())





#The cell above is calculating the absolute magnitude (M_V) of stars using their apparent magnitude and parallax measurements then printing the first few values of the table.





# Extract the first two characters (e.g., 'G2', 'K3')
df_valid['SpType2'] = df_clean['SpType'].str[:2]

# Keep only valid spectral classes
df_valid = df_valid[df_valid['SpType2'].str.match(r'^[OBAFGKM][0-9]')]

# Display unique spectral types
print(df_valid['SpType2'].unique())





# O = the hottest stars
# M = coldest stars





order = {'O': 0, 'B': 1, 'A': 2, 'F': 3, 'G': 4, 'K': 5, 'M': 6}
df_valid['SpType2_numeric'] = df_valid['SpType2'].apply(lambda x: order[x[0]]*10 + int(x[1]))





import matplotlib.pyplot as plt





plt.figure(figsize=(10, 8))
plt.scatter(df_valid['SpType2_numeric'], df_valid['M_V'], s=5, alpha=0.3, c='k')

#Axis limits
plt.xlim(0, 70)
plt.ylim(15, -10)

#x-axis labels and ticks
plt.xticks(range(5, 75, 10))
plt.gca().set_xticklabels(['O', 'B', 'A', 'F', 'G', 'K', 'M'])

#labels and title
plt.xlabel('Spectral Type')
plt.ylabel('Absolute Magnitude')
plt.title('H-R Diagram (Hipparcos catalog)')

# Add grid
plt.grid(True, alpha=0.3)

plt.tight_layout()
plt.show()





#Create the H-R diagram using Color Index vs Absolute Magnitude
plt.figure(figsize=(10, 8))
plt.scatter(df_valid['B-V'], df_valid['M_V'], s=5, alpha=0.3, c='k')

#axis limits
plt.xlim(-0.5, 2.5)
plt.ylim(15, -10)

#labels and title
plt.xlabel('Color Index (B-V)')
plt.ylabel('Absolute Magnitude')
plt.title('H-R Diagram (Hipparcos catalog)')

# Add grid
plt.grid(True, alpha=0.3)

plt.tight_layout()
plt.show()





def plot_luminosity_class(df, label, color):
    mask = df['SpType'].str.contains(label, na=False)
    plt.scatter(df[mask]['B-V'], df[mask]['M_V'], s=5, label=label, c=color, alpha=0.5)

plt.figure(figsize=(8,10))
plt.grid()
plt.xlim(-0.5, 2.5)
plt.ylim(15, -10)
plt.xlabel('Color Index (B-V)')
plt.ylabel('Absolute Magnitude')
plt.title('H-R Diagram with Luminosity Classes')

plot_luminosity_class(df_valid, 'V', 'black')  # Main Sequence
plot_luminosity_class(df_valid, 'III', 'green')  # Giants
plot_luminosity_class(df_valid, 'I', 'red')  # Supergiants

plt.legend()
plt.show()






def plot_luminosity_class_with(df, label, color):
    mask = df['SpType'].str.contains(label, na=False)
    plt.scatter(df[mask]['B-V'], df[mask]['M_V'], s=5, label=label, c=color, alpha=0.5)

plt.figure(figsize=(8, 10))
plt.grid()
plt.xlim(-0.5, 2.5)
plt.ylim(15, -10)
plt.xlabel('Color Index (B-V)')
plt.ylabel('Absolute Magnitude')
plt.title('H-R Diagram with Additional Luminosity Classes')

# Original classes
plot_luminosity_class(df_valid, 'V', 'black')  # Main Sequence
plot_luminosity_class(df_valid, 'III', 'green')  # Giants
plot_luminosity_class(df_valid, 'I', 'red')  # Supergiants

# New classes
plot_luminosity_class(df_valid, 'VI', 'blue')  # Subdwarfs
plot_luminosity_class(df_valid, 'VII', 'purple')  # White dwarfs
plot_luminosity_class(df_valid, 'IV', 'orange')  # Subgiants
plot_luminosity_class(df_valid, 'II', 'cyan')  # Bright giants

plt.legend()
plt.show()


def plot_luminosity_class_without(df, label, color):
    mask = df['SpType'].str.contains(label, na=False)
    plt.scatter(df[mask]['B-V'], df[mask]['M_V'], s=5, label=label, c=color, alpha=0.5)

plt.figure(figsize=(8, 10))
plt.grid()
plt.xlim(-0.5, 2.5)
plt.ylim(15, -10)
plt.xlabel('Color Index (B-V)')
plt.ylabel('Absolute Magnitude')
plt.title('H-R Diagram with New Luminosity Classes')

# Only new classes
plot_luminosity_class(df_valid, 'VI', 'blue')  # Subdwarfs
plot_luminosity_class(df_valid, 'VII', 'purple')  # White dwarfs
plot_luminosity_class(df_valid, 'IV', 'orange')  # Subgiants
plot_luminosity_class(df_valid, 'II', 'cyan')  # Bright giants



