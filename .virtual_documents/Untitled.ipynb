


#using conditionals inside loops
my_list = [10, 35, 40, 50, 60]
print(my_list)
for element in my_list:
    if element > 40:
        print(f"{element} is greater than 40")
    elif element == 40:
        print(f"{element} is equal to 40")
    else:
        print(f"{element} is less than 40")
        


#While Loops
count = 0
while count < 5:
    print("count:", count)
    count +=1


#Combining Loops and Conditionals
#Using a while loop with conditionals to find a number in a list
print(my_list)


target = 40
found = False
i = 0
while not found and i < len(my_list):
    if my_list[i] == target:
        print(f"Found {target} at index {i}")
        found = True
    i += 1



