





import numpy as np





# Your code here
my_list = [77, 88, 99, 110, 121]
my_arr = np.array([77, 88, 99, 110, 121])





# Your code here
x = my_list*4
g = my_arr* 4

print(x, g)

#Multiplying the list by 4 reiterated the list 4 times while multiplying an array by 4 multiplied each number 4 times.





# Your code here
x = my_arr + my_list
print(x)

#This adds the numbers of the same index.





# Your code here
y = my_arr - my_arr
print(y)

z = my_list - my_arr
print(z)

x = my_list - my_list
print(x)

#It would not allow me to subract two lists from one another but it allowed me to subract an array from one another and an array with a list, which just subracted the indicies.





# Your code here

y = my_arr * my_arr
print(y)
z = my_arr * my_list
print(z)
x = my_list * my_list


#could not multiply two lists together, however could multiply a list and an array as well as an array with an array - which multiplies the indices together.






# Your code here
y = my_arr / my_arr
print(y)
z = my_arr / my_list
print(z)
x = my_list / my_list


#could not divide two lists with one another, however could divide a list and an array as well as an array with an array - which divided the indices together.






# Your code here
#An array can be used for computation much easier than a list can. A list holds pretty firm while an array can be easily manipulated and used to computer with numerical functions.





import numpy as np

def get_second_value(array):
    return array[:, 1]


arr3 = np.array([[2, 4, 6], [8, 10, 12], [14, 16, 18]])
get_second_value(arr3)






# Your comment here
#The numpy slicing section helped me write this function. It showed me I can slice a list to produce a specific section or sections of it








def sorting_an_array(arr, ascending=True):
    #function that sorts an array in ascending or descending order
    if ascending:
        return sorted(arr)  # Sort in ascending order
    else:
        return sorted(arr, reverse=True)  # Sort in descending order

arr = [888, 4, 2, 78, 98]

#ascending order
print(sorting_an_array(arr, ascending=True))

#descending order
print(sorting_an_array(arr, ascending=False))





# Your code here


#Example1 -sorting an array in ascending order

arr = np.array([3, 2, 0, 1])
arr2 = np.array([8, 2, 1, 9])

print(np.sort(arr))
print(np.sort(arr2))

#Example2 -alphabetical sorting

arr = np.array(['banana', 'cherry', 'apple'])
arr2 = np.array(['zuchinni', 'tater tots', 'treeleaf'])

print(np.sort(arr))
print(np.sort(arr2))


#Example 3 - boolean
import numpy as np

arr = np.array([True, False, True])
arr2 = np.array([False, True, False])

print(np.sort(arr))
print(np.sort(arr2))

#Example 4 -sorting a 2d array
import numpy as np

arr = np.array([[3, 2, 4], [5, 0, 1]])
arr2 = np.array([[7,2,9], [1,9,0]])

print(np.sort(arr))
print(np.sort(arr2))











# Your code here
import even_sum





# Your code here
list1 = [2, 3, 4, 5, 6, 7, 8, 9, 10]
print(even_sum.sum_even_numbers(list1))





# Your code here
import example





rocket_velocities = np.array([
    [1000, 5000, 8000, 12000],  # Rocket 1's velocity at different times
    [2000, 6000, 9000, 10000],  # Rocket 2
    [3000, 3100, 3200, 3300]    # Rocket 3
])

mass_of_planet = 5.972e24 # kilograms
radius_of_planet = 6.371e6 # meters


# Your code here
escape_velocity = example.escape_velocity(mass_of_planet, radius_of_planet)
print("Escape velocity:   ", escape_velocity)

orbital_velocity = example.orbital_velocity(mass_of_planet, radius_of_planet)
print("Orbital Velocity:   ", orbital_velocity)

rocket_launch = example.rocket_launch(rocket_velocities, mass_of_planet, radius_of_planet)




















# Your comment here
#The most challenging part of building this module was trying to figure out how to connect the three functions. Creating them was very difficult too, but splitting up my idea into three functions and implementing them so they worked together was difficult. I learned a lot about breaking up my goal step by step and working through each function as a part of a whole.





# Your code here
import dna_to_protein





# Your code here

length = 20

#Generate
DNA_sequence = dna_to_protein.generate_sequence(length)
print("DNA Sequence:   ", DNA_sequence)

#Transcribe
rna_sequence = dna_to_protein.transcribe_sequence(DNA_sequence)
print("RNA Sequence:   ", rna_sequence)

#translation
protein_sequence = dna_to_protein.translate_sequence(rna_sequence)
print("Protein Sequence:", protein_sequence)



